
{
  "nbformat": 4,
  "nbformat_minor": 0,
  "metadata": {
    "colab": {
      "provenance": []
    },
    "kernelspec": {
      "name": "python3",
      "display_name": "Python 3"
    },
    "language_info": {
      "name": "python"
    }
  },
  "cells": [
    {
      "cell_type": "markdown",
      "source": [
        "# BANK CUSTOMER SEGMENTATION with K-Means\n",
        "\n",
        "## Day 19 of 110 Days of ML Challenge\n",
        "\n",
        "### Project by Anjolaoluwa (Dataprincess)\n",
        "\n",
        "![Inside a bank image](https://media.istockphoto.com/id/1136980835/sv/vektor/bank-bes%C3%B6kare-och-arbets-tagare-finansiell-r%C3%A5dgivning-center-med-v%C3%A4ntrum-mottagning-och-atm.jpg?s=612x612&w=0&k=20&c=N1AHT1gzGe6kUPAmTPtjMp7ACHLykGZNC2BO8NxnjB0=)"
      ],
      "metadata": {
        "id": "mTkqwohvPRJe"
      }
    },
    {
      "cell_type": "markdown",
      "source": [
        "## Hi friends 👋\n",
        "\n",
        "Today, we'll be helping a Bank utilize their customer data to improve their operations.\n",
        "\n",
        "The objectives of this project include helping the bank:\n",
        "\n",
        "- Analyze credit card utilization patterns and identify opportunities for increased engagement.\n",
        "- Personalize marketing strategies for different customer segments.\n",
        "- Analyze engagement levels and churn risks across customer segments.\n",
        "\n",
        "Let's go!!!"
      ],
      "metadata": {
        "id": "loKXupGERK25"
      }
    },
    {
      "cell_type": "markdown",
      "source": [
        "# Data Collection"
      ],
      "metadata": {
        "id": "ddFa3KMgXSO5"
      }
    },
    {
      "cell_type": "code",
      "execution_count": 1,
      "metadata": {
        "colab": {
          "base_uri": "https://localhost:8080/",
          "height": 386
        },
        "id": "dFRK9J-Pvo7V",
        "outputId": "fbd48688-d0fa-4808-bfbc-8bde77f1e0b5"
      },
      "outputs": [
        {
          "output_type": "execute_result",
          "data": {
            "text/plain": [
              "   CLIENTNUM     Attrition_Flag  Customer_Age Gender  Dependent_count  \\\n",
              "0  768805383  Existing Customer            45      M                3   \n",
              "1  818770008  Existing Customer            49      F                5   \n",
              "2  713982108  Existing Customer            51      M                3   \n",
              "3  769911858  Existing Customer            40      F                4   \n",
              "4  709106358  Existing Customer            40      M                3   \n",
              "\n",
              "  Education_Level Marital_Status Income_Category Card_Category  \\\n",
              "0     High School        Married     $60K - $80K          Blue   \n",
              "1        Graduate         Single  Less than $40K          Blue   \n",
              "2        Graduate        Married    $80K - $120K          Blue   \n",
              "3     High School        Unknown  Less than $40K          Blue   \n",
              "4      Uneducated        Married     $60K - $80K          Blue   \n",
              "\n",
              "   Months_on_book  ...  Credit_Limit  Total_Revolving_Bal  Avg_Open_To_Buy  \\\n",
              "0              39  ...       12691.0                  777          11914.0   \n",
              "1              44  ...        8256.0                  864           7392.0   \n",
              "2              36  ...        3418.0                    0           3418.0   \n",
              "3              34  ...        3313.0                 2517            796.0   \n",
              "4              21  ...        4716.0                    0           4716.0   \n",
              "\n",
              "   Total_Amt_Chng_Q4_Q1  Total_Trans_Amt  Total_Trans_Ct  Total_Ct_Chng_Q4_Q1  \\\n",
              "0                 1.335             1144              42                1.625   \n",
              "1                 1.541             1291              33                3.714   \n",
              "2                 2.594             1887              20                2.333   \n",
              "3                 1.405             1171              20                2.333   \n",
              "4                 2.175              816              28                2.500   \n",
              "\n",
              "   Avg_Utilization_Ratio  \\\n",
              "0                  0.061   \n",
              "1                  0.105   \n",
              "2                  0.000   \n",
              "3                  0.760   \n",
              "4                  0.000   \n",
              "\n",
              "   Naive_Bayes_Classifier_Attrition_Flag_Card_Category_Contacts_Count_12_mon_Dependent_count_Education_Level_Months_Inactive_12_mon_1  \\\n",
              "0                                           0.000093                                                                                    \n",
              "1                                           0.000057                                                                                    \n",
              "2                                           0.000021                                                                                    \n",
              "3                                           0.000134                                                                                    \n",
              "4                                           0.000022                                                                                    \n",
              "\n",
              "   Naive_Bayes_Classifier_Attrition_Flag_Card_Category_Contacts_Count_12_mon_Dependent_count_Education_Level_Months_Inactive_12_mon_2  \n",
              "0                                            0.99991                                                                                   \n",
              "1                                            0.99994                                                                                   \n",
              "2                                            0.99998                                                                                   \n",
              "3                                            0.99987                                                                                   \n",
              "4                                            0.99998                                                                                   \n",
              "\n",
              "[5 rows x 23 columns]"
            ],
            "text/html": [
              "\n",
              "\n",
              "  <div id=\"df-dcd39b8b-1e4c-4849-836a-9a3be4d1f9ef\">\n",
              "    <div class=\"colab-df-container\">\n",
              "      <div>\n",
              "<style scoped>\n",
              "    .dataframe tbody tr th:only-of-type {\n",
              "        vertical-align: middle;\n",
              "    }\n",
              "\n",
              "    .dataframe tbody tr th {\n",
              "        vertical-align: top;\n",
              "    }\n",
              "\n",
              "    .dataframe thead th {\n",
              "        text-align: right;\n",
              "    }\n",
              "</style>\n",
              "<table border=\"1\" class=\"dataframe\">\n",
              "  <thead>\n",
              "    <tr style=\"text-align: right;\">\n",
              "      <th></th>\n",
              "      <th>CLIENTNUM</th>\n",
              "      <th>Attrition_Flag</th>\n",
              "      <th>Customer_Age</th>\n",
              "      <th>Gender</th>\n",
              "      <th>Dependent_count</th>\n",
              "      <th>Education_Level</th>\n",
              "      <th>Marital_Status</th>\n",
              "      <th>Income_Category</th>\n",
              "      <th>Card_Category</th>\n",
              "      <th>Months_on_book</th>\n",
              "      <th>...</th>\n",
              "      <th>Credit_Limit</th>\n",
              "      <th>Total_Revolving_Bal</th>\n",
              "      <th>Avg_Open_To_Buy</th>\n",
              "      <th>Total_Amt_Chng_Q4_Q1</th>\n",
              "      <th>Total_Trans_Amt</th>\n",
              "      <th>Total_Trans_Ct</th>\n",
              "      <th>Total_Ct_Chng_Q4_Q1</th>\n",
              "      <th>Avg_Utilization_Ratio</th>\n",
              "      <th>Naive_Bayes_Classifier_Attrition_Flag_Card_Category_Contacts_Count_12_mon_Dependent_count_Education_Level_Months_Inactive_12_mon_1</th>\n",
              "      <th>Naive_Bayes_Classifier_Attrition_Flag_Card_Category_Contacts_Count_12_mon_Dependent_count_Education_Level_Months_Inactive_12_mon_2</th>\n",
              "    </tr>\n",
              "  </thead>\n",
              "  <tbody>\n",
              "    <tr>\n",
              "      <th>0</th>\n",
              "      <td>768805383</td>\n",
              "      <td>Existing Customer</td>\n",
              "      <td>45</td>\n",
              "      <td>M</td>\n",
              "      <td>3</td>\n",
              "      <td>High School</td>\n",
              "      <td>Married</td>\n",
              "      <td>$60K - $80K</td>\n",
              "      <td>Blue</td>\n",
              "      <td>39</td>\n",
              "      <td>...</td>\n",
              "      <td>12691.0</td>\n",
              "      <td>777</td>\n",
              "      <td>11914.0</td>\n",
              "      <td>1.335</td>\n",
              "      <td>1144</td>\n",
              "      <td>42</td>\n",
              "      <td>1.625</td>\n",
              "      <td>0.061</td>\n",
              "      <td>0.000093</td>\n",
              "      <td>0.99991</td>\n",
              "    </tr>\n",
              "    <tr>\n",
              "      <th>1</th>\n",
              "      <td>818770008</td>\n",
              "      <td>Existing Customer</td>\n",
              "      <td>49</td>\n",
              "      <td>F</td>\n",
              "      <td>5</td>\n",
              "      <td>Graduate</td>\n",
              "      <td>Single</td>\n",
              "      <td>Less than $40K</td>\n",
              "      <td>Blue</td>\n",
              "      <td>44</td>\n",
              "      <td>...</td>\n",
              "      <td>8256.0</td>\n",
              "      <td>864</td>\n",
              "      <td>7392.0</td>\n",
              "      <td>1.541</td>\n",
              "      <td>1291</td>\n",
              "      <td>33</td>\n",
              "      <td>3.714</td>\n",
              "      <td>0.105</td>\n",
              "      <td>0.000057</td>\n",
              "      <td>0.99994</td>\n",
              "    </tr>\n",
              "    <tr>\n",
              "      <th>2</th>\n",
              "      <td>713982108</td>\n",
              "      <td>Existing Customer</td>\n",
              "      <td>51</td>\n",
              "      <td>M</td>\n",
              "      <td>3</td>\n",
              "      <td>Graduate</td>\n",
              "      <td>Married</td>\n",
              "      <td>$80K - $120K</td>\n",
              "      <td>Blue</td>\n",
              "      <td>36</td>\n",
              "      <td>...</td>\n",
              "      <td>3418.0</td>\n",
              "      <td>0</td>\n",
              "      <td>3418.0</td>\n",
              "      <td>2.594</td>\n",
              "      <td>1887</td>\n",
              "      <td>20</td>\n",
              "      <td>2.333</td>\n",
              "      <td>0.000</td>\n",
              "      <td>0.000021</td>\n",
              "      <td>0.99998</td>\n",
              "    </tr>\n",
              "    <tr>\n",
              "      <th>3</th>\n",
              "      <td>769911858</td>\n",
              "      <td>Existing Customer</td>\n",
              "      <td>40</td>\n",
              "      <td>F</td>\n",
              "      <td>4</td>\n",
              "      <td>High School</td>\n",
              "      <td>Unknown</td>\n",
              "      <td>Less than $40K</td>\n",
              "      <td>Blue</td>\n",
              "      <td>34</td>\n",
              "      <td>...</td>\n",
              "      <td>3313.0</td>\n",
              "      <td>2517</td>\n",
              "      <td>796.0</td>\n",
              "      <td>1.405</td>\n",
              "      <td>1171</td>\n",
              "      <td>20</td>\n",
              "      <td>2.333</td>\n",
              "      <td>0.760</td>\n",
              "      <td>0.000134</td>\n",
              "      <td>0.99987</td>\n",
              "    </tr>\n",
              "    <tr>\n",
              "      <th>4</th>\n",
              "      <td>709106358</td>\n",
              "      <td>Existing Customer</td>\n",
              "      <td>40</td>\n",
              "      <td>M</td>\n",
              "      <td>3</td>\n",
              "      <td>Uneducated</td>\n",
              "      <td>Married</td>\n",
              "      <td>$60K - $80K</td>\n",
              "      <td>Blue</td>\n",
              "      <td>21</td>\n",
              "      <td>...</td>\n",
              "      <td>4716.0</td>\n",
              "      <td>0</td>\n",
              "      <td>4716.0</td>\n",
              "      <td>2.175</td>\n",
              "      <td>816</td>\n",
              "      <td>28</td>\n",
              "      <td>2.500</td>\n",
              "      <td>0.000</td>\n",
              "      <td>0.000022</td>\n",
              "      <td>0.99998</td>\n",
              "    </tr>\n",
              "  </tbody>\n",
              "</table>\n",
              "<p>5 rows × 23 columns</p>\n",
              "</div>\n",
              "      <button class=\"colab-df-convert\" onclick=\"convertToInteractive('df-dcd39b8b-1e4c-4849-836a-9a3be4d1f9ef')\"\n",
              "              title=\"Convert this dataframe to an interactive table.\"\n",
              "              style=\"display:none;\">\n",
              "\n",
              "  <svg xmlns=\"http://www.w3.org/2000/svg\" height=\"24px\"viewBox=\"0 0 24 24\"\n",
              "       width=\"24px\">\n",
              "    <path d=\"M0 0h24v24H0V0z\" fill=\"none\"/>\n",
              "    <path d=\"M18.56 5.44l.94 2.06.94-2.06 2.06-.94-2.06-.94-.94-2.06-.94 2.06-2.06.94zm-11 1L8.5 8.5l.94-2.06 2.06-.94-2.06-.94L8.5 2.5l-.94 2.06-2.06.94zm10 10l.94 2.06.94-2.06 2.06-.94-2.06-.94-.94-2.06-.94 2.06-2.06.94z\"/><path d=\"M17.41 7.96l-1.37-1.37c-.4-.4-.92-.59-1.43-.59-.52 0-1.04.2-1.43.59L10.3 9.45l-7.72 7.72c-.78.78-.78 2.05 0 2.83L4 21.41c.39.39.9.59 1.41.59.51 0 1.02-.2 1.41-.59l7.78-7.78 2.81-2.81c.8-.78.8-2.07 0-2.86zM5.41 20L4 18.59l7.72-7.72 1.47 1.35L5.41 20z\"/>\n",
              "  </svg>\n",
              "      </button>\n",
              "\n",
              "\n",
              "\n",
              "    <div id=\"df-312b0389-81ca-4d14-98c6-0e94693c78d5\">\n",
              "      <button class=\"colab-df-quickchart\" onclick=\"quickchart('df-312b0389-81ca-4d14-98c6-0e94693c78d5')\"\n",
              "              title=\"Suggest charts.\"\n",
              "              style=\"display:none;\">\n",
              "\n",
              "<svg xmlns=\"http://www.w3.org/2000/svg\" height=\"24px\"viewBox=\"0 0 24 24\"\n",
              "     width=\"24px\">\n",
              "    <g>\n",
              "        <path d=\"M19 3H5c-1.1 0-2 .9-2 2v14c0 1.1.9 2 2 2h14c1.1 0 2-.9 2-2V5c0-1.1-.9-2-2-2zM9 17H7v-7h2v7zm4 0h-2V7h2v10zm4 0h-2v-4h2v4z\"/>\n",
              "    </g>\n",
              "</svg>\n",
              "      </button>\n",
              "    </div>\n",
              "\n",
              "<style>\n",
              "  .colab-df-quickchart {\n",
              "    background-color: #E8F0FE;\n",
              "    border: none;\n",
              "    border-radius: 50%;\n",
              "    cursor: pointer;\n",
              "    display: none;\n",
              "    fill: #1967D2;\n",
              "    height: 32px;\n",
              "    padding: 0 0 0 0;\n",
              "    width: 32px;\n",
              "  }\n",
              "\n",
              "  .colab-df-quickchart:hover {\n",
              "    background-color: #E2EBFA;\n",
              "    box-shadow: 0px 1px 2px rgba(60, 64, 67, 0.3), 0px 1px 3px 1px rgba(60, 64, 67, 0.15);\n",
              "    fill: #174EA6;\n",
              "  }\n",
              "\n",
              "  [theme=dark] .colab-df-quickchart {\n",
              "    background-color: #3B4455;\n",
              "    fill: #D2E3FC;\n",
              "  }\n",
              "\n",
              "  [theme=dark] .colab-df-quickchart:hover {\n",
              "    background-color: #434B5C;\n",
              "    box-shadow: 0px 1px 3px 1px rgba(0, 0, 0, 0.15);\n",
              "    filter: drop-shadow(0px 1px 2px rgba(0, 0, 0, 0.3));\n",
              "    fill: #FFFFFF;\n",
              "  }\n",
              "</style>\n",
              "\n",
              "    <script>\n",
              "      async function quickchart(key) {\n",
              "        const containerElement = document.querySelector('#' + key);\n",
              "        const charts = await google.colab.kernel.invokeFunction(\n",
              "            'suggestCharts', [key], {});\n",
              "      }\n",
              "    </script>\n",
              "\n",
              "      <script>\n",
              "\n",
              "function displayQuickchartButton(domScope) {\n",
              "  let quickchartButtonEl =\n",
              "    domScope.querySelector('#df-312b0389-81ca-4d14-98c6-0e94693c78d5 button.colab-df-quickchart');\n",
              "  quickchartButtonEl.style.display =\n",
              "    google.colab.kernel.accessAllowed ? 'block' : 'none';\n",
              "}\n",
              "\n",
              "        displayQuickchartButton(document);\n",
              "      </script>\n",
              "      <style>\n",
              "    .colab-df-container {\n",
              "      display:flex;\n",
              "      flex-wrap:wrap;\n",
              "      gap: 12px;\n",
              "    }\n",
              "\n",
              "    .colab-df-convert {\n",
              "      background-color: #E8F0FE;\n",
              "      border: none;\n",
              "      border-radius: 50%;\n",
              "      cursor: pointer;\n",
              "      display: none;\n",
              "      fill: #1967D2;\n",
              "      height: 32px;\n",
              "      padding: 0 0 0 0;\n",
              "      width: 32px;\n",
              "    }\n",
              "\n",
              "    .colab-df-convert:hover {\n",
              "      background-color: #E2EBFA;\n",
              "      box-shadow: 0px 1px 2px rgba(60, 64, 67, 0.3), 0px 1px 3px 1px rgba(60, 64, 67, 0.15);\n",
              "      fill: #174EA6;\n",
              "    }\n",
              "\n",
              "    [theme=dark] .colab-df-convert {\n",
              "      background-color: #3B4455;\n",
              "      fill: #D2E3FC;\n",
              "    }\n",
              "\n",
              "    [theme=dark] .colab-df-convert:hover {\n",
              "      background-color: #434B5C;\n",
              "      box-shadow: 0px 1px 3px 1px rgba(0, 0, 0, 0.15);\n",
              "      filter: drop-shadow(0px 1px 2px rgba(0, 0, 0, 0.3));\n",
              "      fill: #FFFFFF;\n",
              "    }\n",
              "  </style>\n",
              "\n",
              "      <script>\n",
              "        const buttonEl =\n",
              "          document.querySelector('#df-dcd39b8b-1e4c-4849-836a-9a3be4d1f9ef button.colab-df-convert');\n",
              "        buttonEl.style.display =\n",
              "          google.colab.kernel.accessAllowed ? 'block' : 'none';\n",
              "\n",
              "        async function convertToInteractive(key) {\n",
              "          const element = document.querySelector('#df-dcd39b8b-1e4c-4849-836a-9a3be4d1f9ef');\n",
              "          const dataTable =\n",
              "            await google.colab.kernel.invokeFunction('convertToInteractive',\n",
              "                                                     [key], {});\n",
              "          if (!dataTable) return;\n",
              "\n",
              "          const docLinkHtml = 'Like what you see? Visit the ' +\n",
              "            '<a target=\"_blank\" href=https://colab.research.google.com/notebooks/data_table.ipynb>data table notebook</a>'\n",
              "            + ' to learn more about interactive tables.';\n",
              "          element.innerHTML = '';\n",
              "          dataTable['output_type'] = 'display_data';\n",
              "          await google.colab.output.renderOutput(dataTable, element);\n",
              "          const docLink = document.createElement('div');\n",
              "          docLink.innerHTML = docLinkHtml;\n",
              "          element.appendChild(docLink);\n",
              "        }\n",
              "      </script>\n",
              "    </div>\n",
              "  </div>\n"
            ]
          },
          "metadata": {},
          "execution_count": 1
        }
      ],
      "source": [
        "# Import required libraries\n",
        "import pandas as pd\n",
        "\n",
        "df = pd.read_csv('/content/BankChurners.csv')\n",
        "df.head()"
      ]
    },
    {
      "cell_type": "markdown",
      "source": [
        "# Exploratory Data Analysis (EDA)"
      ],
      "metadata": {
        "id": "PZyx1iq-XqYs"
      }
    },
    {
      "cell_type": "code",
      "source": [
        "!pip install skimpy"
      ],
      "metadata": {
        "id": "AfrI_gQ1YaTz"
      },
      "execution_count": null,
      "outputs": []
    },
    {
      "cell_type": "markdown",
      "source": [
        "## Data Summary"
      ],
      "metadata": {
        "id": "9el6FhzbnxNY"
      }
    },
    {
      "cell_type": "code",
      "source": [
        "# Import required libraries\n",
        "from skimpy import skim\n",
        "from matplotlib import pyplot as plt\n",
        "import seaborn as sns\n",
        "import plotly.express as px\n",
        "skim(df)\n"
      ],
      "metadata": {
        "id": "s8XowcXeXqCO",
        "colab": {
          "base_uri": "https://localhost:8080/",
          "height": 1000
        },
        "outputId": "09072ea5-58a5-4b48-83ce-6c8c97d877a6"
      },
      "execution_count": 3,
      "outputs": [
        {
          "output_type": "display_data",
          "data": {
            "text/plain": [
              "╭──────────────────────────────────────────────── skimpy summary ─────────────────────────────────────────────────╮\n",
              "│ \u001b[3m         Data Summary         \u001b[0m \u001b[3m      Data Types       \u001b[0m                                                          │\n",
              "│ ┏━━━━━━━━━━━━━━━━━━━┳━━━━━━━━┓ ┏━━━━━━━━━━━━━┳━━━━━━━┓                                                          │\n",
              "│ ┃\u001b[1;36m \u001b[0m\u001b[1;36mdataframe        \u001b[0m\u001b[1;36m \u001b[0m┃\u001b[1;36m \u001b[0m\u001b[1;36mValues\u001b[0m\u001b[1;36m \u001b[0m┃ ┃\u001b[1;36m \u001b[0m\u001b[1;36mColumn Type\u001b[0m\u001b[1;36m \u001b[0m┃\u001b[1;36m \u001b[0m\u001b[1;36mCount\u001b[0m\u001b[1;36m \u001b[0m┃                                                          │\n",
              "│ ┡━━━━━━━━━━━━━━━━━━━╇━━━━━━━━┩ ┡━━━━━━━━━━━━━╇━━━━━━━┩                                                          │\n",
              "│ │ Number of rows    │ 10127  │ │ int64       │ 10    │                                                          │\n",
              "│ │ Number of columns │ 23     │ │ float64     │ 7     │                                                          │\n",
              "│ └───────────────────┴────────┘ │ string      │ 6     │                                                          │\n",
              "│                                └─────────────┴───────┘                                                          │\n",
              "│ \u001b[3m                                                    number                                                    \u001b[0m  │\n",
              "│ ┏━━━━━━━━━━━━━━━━┳━━━━┳━━━━━━┳━━━━━━━━━━━┳━━━━━━━━━━┳━━━━━━━━━━━┳━━━━━━━━━━━┳━━━━━━━━━━━┳━━━━━━━━━━━┳━━━━━━━━┓  │\n",
              "│ ┃\u001b[1m \u001b[0m\u001b[1mcolumn_name   \u001b[0m\u001b[1m \u001b[0m┃\u001b[1m \u001b[0m\u001b[1mNA\u001b[0m\u001b[1m \u001b[0m┃\u001b[1m \u001b[0m\u001b[1mNA %\u001b[0m\u001b[1m \u001b[0m┃\u001b[1m \u001b[0m\u001b[1mmean     \u001b[0m\u001b[1m \u001b[0m┃\u001b[1m \u001b[0m\u001b[1msd      \u001b[0m\u001b[1m \u001b[0m┃\u001b[1m \u001b[0m\u001b[1mp0       \u001b[0m\u001b[1m \u001b[0m┃\u001b[1m \u001b[0m\u001b[1mp25      \u001b[0m\u001b[1m \u001b[0m┃\u001b[1m \u001b[0m\u001b[1mp75      \u001b[0m\u001b[1m \u001b[0m┃\u001b[1m \u001b[0m\u001b[1mp100     \u001b[0m\u001b[1m \u001b[0m┃\u001b[1m \u001b[0m\u001b[1mhist  \u001b[0m\u001b[1m \u001b[0m┃  │\n",
              "│ ┡━━━━━━━━━━━━━━━━╇━━━━╇━━━━━━╇━━━━━━━━━━━╇━━━━━━━━━━╇━━━━━━━━━━━╇━━━━━━━━━━━╇━━━━━━━━━━━╇━━━━━━━━━━━╇━━━━━━━━┩  │\n",
              "│ │ \u001b[38;5;141mCLIENTNUM     \u001b[0m │ \u001b[36m 0\u001b[0m │ \u001b[36m   0\u001b[0m │ \u001b[36m740000000\u001b[0m │ \u001b[36m37000000\u001b[0m │ \u001b[36m710000000\u001b[0m │ \u001b[36m710000000\u001b[0m │ \u001b[36m770000000\u001b[0m │ \u001b[36m830000000\u001b[0m │ \u001b[32m█  ▂▁▁\u001b[0m │  │\n",
              "│ │ \u001b[38;5;141mCustomer_Age  \u001b[0m │ \u001b[36m 0\u001b[0m │ \u001b[36m   0\u001b[0m │ \u001b[36m       46\u001b[0m │ \u001b[36m       8\u001b[0m │ \u001b[36m       26\u001b[0m │ \u001b[36m       41\u001b[0m │ \u001b[36m       52\u001b[0m │ \u001b[36m       73\u001b[0m │ \u001b[32m▁▅█▆▂ \u001b[0m │  │\n",
              "│ │ \u001b[38;5;141mDependent_coun\u001b[0m │ \u001b[36m 0\u001b[0m │ \u001b[36m   0\u001b[0m │ \u001b[36m      2.3\u001b[0m │ \u001b[36m     1.3\u001b[0m │ \u001b[36m        0\u001b[0m │ \u001b[36m        1\u001b[0m │ \u001b[36m        3\u001b[0m │ \u001b[36m        5\u001b[0m │ \u001b[32m▃▅██▅▁\u001b[0m │  │\n",
              "│ │ \u001b[38;5;141mt             \u001b[0m │    │      │           │          │           │           │           │           │        │  │\n",
              "│ │ \u001b[38;5;141mMonths_on_book\u001b[0m │ \u001b[36m 0\u001b[0m │ \u001b[36m   0\u001b[0m │ \u001b[36m       36\u001b[0m │ \u001b[36m       8\u001b[0m │ \u001b[36m       13\u001b[0m │ \u001b[36m       31\u001b[0m │ \u001b[36m       40\u001b[0m │ \u001b[36m       56\u001b[0m │ \u001b[32m▁▂▄█▃▁\u001b[0m │  │\n",
              "│ │ \u001b[38;5;141mTotal_Relation\u001b[0m │ \u001b[36m 0\u001b[0m │ \u001b[36m   0\u001b[0m │ \u001b[36m      3.8\u001b[0m │ \u001b[36m     1.6\u001b[0m │ \u001b[36m        1\u001b[0m │ \u001b[36m        3\u001b[0m │ \u001b[36m        5\u001b[0m │ \u001b[36m        6\u001b[0m │ \u001b[32m▃▄█▇▇▆\u001b[0m │  │\n",
              "│ │ \u001b[38;5;141mship_Count    \u001b[0m │    │      │           │          │           │           │           │           │        │  │\n",
              "│ │ \u001b[38;5;141mMonths_Inactiv\u001b[0m │ \u001b[36m 0\u001b[0m │ \u001b[36m   0\u001b[0m │ \u001b[36m      2.3\u001b[0m │ \u001b[36m       1\u001b[0m │ \u001b[36m        0\u001b[0m │ \u001b[36m        2\u001b[0m │ \u001b[36m        3\u001b[0m │ \u001b[36m        6\u001b[0m │ \u001b[32m ▅▇█▁▁\u001b[0m │  │\n",
              "│ │ \u001b[38;5;141me_12_mon      \u001b[0m │    │      │           │          │           │           │           │           │        │  │\n",
              "│ │ \u001b[38;5;141mContacts_Count\u001b[0m │ \u001b[36m 0\u001b[0m │ \u001b[36m   0\u001b[0m │ \u001b[36m      2.5\u001b[0m │ \u001b[36m     1.1\u001b[0m │ \u001b[36m        0\u001b[0m │ \u001b[36m        2\u001b[0m │ \u001b[36m        3\u001b[0m │ \u001b[36m        6\u001b[0m │ \u001b[32m▁▄██▃▁\u001b[0m │  │\n",
              "│ │ \u001b[38;5;141m_12_mon       \u001b[0m │    │      │           │          │           │           │           │           │        │  │\n",
              "│ │ \u001b[38;5;141mCredit_Limit  \u001b[0m │ \u001b[36m 0\u001b[0m │ \u001b[36m   0\u001b[0m │ \u001b[36m     8600\u001b[0m │ \u001b[36m    9100\u001b[0m │ \u001b[36m     1400\u001b[0m │ \u001b[36m     2600\u001b[0m │ \u001b[36m    11000\u001b[0m │ \u001b[36m    35000\u001b[0m │ \u001b[32m█▂▁▁ ▁\u001b[0m │  │\n",
              "│ │ \u001b[38;5;141mTotal_Revolvin\u001b[0m │ \u001b[36m 0\u001b[0m │ \u001b[36m   0\u001b[0m │ \u001b[36m     1200\u001b[0m │ \u001b[36m     810\u001b[0m │ \u001b[36m        0\u001b[0m │ \u001b[36m      360\u001b[0m │ \u001b[36m     1800\u001b[0m │ \u001b[36m     2500\u001b[0m │ \u001b[32m█▂▅▇▅▄\u001b[0m │  │\n",
              "│ │ \u001b[38;5;141mg_Bal         \u001b[0m │    │      │           │          │           │           │           │           │        │  │\n",
              "│ │ \u001b[38;5;141mAvg_Open_To_Bu\u001b[0m │ \u001b[36m 0\u001b[0m │ \u001b[36m   0\u001b[0m │ \u001b[36m     7500\u001b[0m │ \u001b[36m    9100\u001b[0m │ \u001b[36m        3\u001b[0m │ \u001b[36m     1300\u001b[0m │ \u001b[36m     9900\u001b[0m │ \u001b[36m    35000\u001b[0m │ \u001b[32m█▂▁▁ ▁\u001b[0m │  │\n",
              "│ │ \u001b[38;5;141my             \u001b[0m │    │      │           │          │           │           │           │           │        │  │\n",
              "│ │ \u001b[38;5;141mTotal_Amt_Chng\u001b[0m │ \u001b[36m 0\u001b[0m │ \u001b[36m   0\u001b[0m │ \u001b[36m     0.76\u001b[0m │ \u001b[36m    0.22\u001b[0m │ \u001b[36m        0\u001b[0m │ \u001b[36m     0.63\u001b[0m │ \u001b[36m     0.86\u001b[0m │ \u001b[36m      3.4\u001b[0m │ \u001b[32m  ▁█  \u001b[0m │  │\n",
              "│ │ \u001b[38;5;141m_Q4_Q1        \u001b[0m │    │      │           │          │           │           │           │           │        │  │\n",
              "│ │ \u001b[38;5;141mTotal_Trans_Am\u001b[0m │ \u001b[36m 0\u001b[0m │ \u001b[36m   0\u001b[0m │ \u001b[36m     4400\u001b[0m │ \u001b[36m    3400\u001b[0m │ \u001b[36m      510\u001b[0m │ \u001b[36m     2200\u001b[0m │ \u001b[36m     4700\u001b[0m │ \u001b[36m    18000\u001b[0m │ \u001b[32m██▁ ▁ \u001b[0m │  │\n",
              "│ │ \u001b[38;5;141mt             \u001b[0m │    │      │           │          │           │           │           │           │        │  │\n",
              "│ │ \u001b[38;5;141mTotal_Trans_Ct\u001b[0m │ \u001b[36m 0\u001b[0m │ \u001b[36m   0\u001b[0m │ \u001b[36m       65\u001b[0m │ \u001b[36m      23\u001b[0m │ \u001b[36m       10\u001b[0m │ \u001b[36m       45\u001b[0m │ \u001b[36m       81\u001b[0m │ \u001b[36m      140\u001b[0m │ \u001b[32m▂▆█▇▂▁\u001b[0m │  │\n",
              "│ │ \u001b[38;5;141mTotal_Ct_Chng_\u001b[0m │ \u001b[36m 0\u001b[0m │ \u001b[36m   0\u001b[0m │ \u001b[36m     0.71\u001b[0m │ \u001b[36m    0.24\u001b[0m │ \u001b[36m        0\u001b[0m │ \u001b[36m     0.58\u001b[0m │ \u001b[36m     0.82\u001b[0m │ \u001b[36m      3.7\u001b[0m │ \u001b[32m  ▄█  \u001b[0m │  │\n",
              "│ │ \u001b[38;5;141mQ4_Q1         \u001b[0m │    │      │           │          │           │           │           │           │        │  │\n",
              "│ │ \u001b[38;5;141mAvg_Utilizatio\u001b[0m │ \u001b[36m 0\u001b[0m │ \u001b[36m   0\u001b[0m │ \u001b[36m     0.27\u001b[0m │ \u001b[36m    0.28\u001b[0m │ \u001b[36m        0\u001b[0m │ \u001b[36m    0.023\u001b[0m │ \u001b[36m      0.5\u001b[0m │ \u001b[36m        1\u001b[0m │ \u001b[32m█▂▂▂▂▁\u001b[0m │  │\n",
              "│ │ \u001b[38;5;141mn_Ratio       \u001b[0m │    │      │           │          │           │           │           │           │        │  │\n",
              "│ │ \u001b[38;5;141mNaive_Bayes_Cl\u001b[0m │ \u001b[36m 0\u001b[0m │ \u001b[36m   0\u001b[0m │ \u001b[36m     0.16\u001b[0m │ \u001b[36m    0.37\u001b[0m │ \u001b[36m  7.7e-06\u001b[0m │ \u001b[36m  9.9e-05\u001b[0m │ \u001b[36m  0.00034\u001b[0m │ \u001b[36m        1\u001b[0m │ \u001b[32m█    ▂\u001b[0m │  │\n",
              "│ │ \u001b[38;5;141massifier_Attri\u001b[0m │    │      │           │          │           │           │           │           │        │  │\n",
              "│ │ \u001b[38;5;141mtion_Flag_Card\u001b[0m │    │      │           │          │           │           │           │           │        │  │\n",
              "│ │ \u001b[38;5;141m_Category_Cont\u001b[0m │    │      │           │          │           │           │           │           │        │  │\n",
              "│ │ \u001b[38;5;141macts_Count_12_\u001b[0m │    │      │           │          │           │           │           │           │        │  │\n",
              "│ │ \u001b[38;5;141mmon_Dependent_\u001b[0m │    │      │           │          │           │           │           │           │        │  │\n",
              "│ │ \u001b[38;5;141mcount_Educatio\u001b[0m │    │      │           │          │           │           │           │           │        │  │\n",
              "│ │ \u001b[38;5;141mn_Level_Months\u001b[0m │    │      │           │          │           │           │           │           │        │  │\n",
              "│ │ \u001b[38;5;141m_Inactive_12_m\u001b[0m │    │      │           │          │           │           │           │           │        │  │\n",
              "│ │ \u001b[38;5;141mon_1          \u001b[0m │    │      │           │          │           │           │           │           │        │  │\n",
              "│ │ \u001b[38;5;141mNaive_Bayes_Cl\u001b[0m │ \u001b[36m 0\u001b[0m │ \u001b[36m   0\u001b[0m │ \u001b[36m     0.84\u001b[0m │ \u001b[36m    0.37\u001b[0m │ \u001b[36m  0.00042\u001b[0m │ \u001b[36m        1\u001b[0m │ \u001b[36m        1\u001b[0m │ \u001b[36m        1\u001b[0m │ \u001b[32m▂    █\u001b[0m │  │\n",
              "│ │ \u001b[38;5;141massifier_Attri\u001b[0m │    │      │           │          │           │           │           │           │        │  │\n",
              "│ │ \u001b[38;5;141mtion_Flag_Card\u001b[0m │    │      │           │          │           │           │           │           │        │  │\n",
              "│ │ \u001b[38;5;141m_Category_Cont\u001b[0m │    │      │           │          │           │           │           │           │        │  │\n",
              "│ │ \u001b[38;5;141macts_Count_12_\u001b[0m │    │      │           │          │           │           │           │           │        │  │\n",
              "│ │ \u001b[38;5;141mmon_Dependent_\u001b[0m │    │      │           │          │           │           │           │           │        │  │\n",
              "│ │ \u001b[38;5;141mcount_Educatio\u001b[0m │    │      │           │          │           │           │           │           │        │  │\n",
              "│ │ \u001b[38;5;141mn_Level_Months\u001b[0m │    │      │           │          │           │           │           │           │        │  │\n",
              "│ │ \u001b[38;5;141m_Inactive_12_m\u001b[0m │    │      │           │          │           │           │           │           │        │  │\n",
              "│ │ \u001b[38;5;141mon_2          \u001b[0m │    │      │           │          │           │           │           │           │        │  │\n",
              "│ └────────────────┴────┴──────┴───────────┴──────────┴───────────┴───────────┴───────────┴───────────┴────────┘  │\n",
              "│ \u001b[3m                                                    string                                                    \u001b[0m  │\n",
              "│ ┏━━━━━━━━━━━━━━━━━━━━━━━━━━━━━━━━━┳━━━━━━━━┳━━━━━━━━━━━━┳━━━━━━━━━━━━━━━━━━━━━━━━━━━━┳━━━━━━━━━━━━━━━━━━━━━━━┓  │\n",
              "│ ┃\u001b[1m \u001b[0m\u001b[1mcolumn_name                    \u001b[0m\u001b[1m \u001b[0m┃\u001b[1m \u001b[0m\u001b[1mNA    \u001b[0m\u001b[1m \u001b[0m┃\u001b[1m \u001b[0m\u001b[1mNA %      \u001b[0m\u001b[1m \u001b[0m┃\u001b[1m \u001b[0m\u001b[1mwords per row             \u001b[0m\u001b[1m \u001b[0m┃\u001b[1m \u001b[0m\u001b[1mtotal words          \u001b[0m\u001b[1m \u001b[0m┃  │\n",
              "│ ┡━━━━━━━━━━━━━━━━━━━━━━━━━━━━━━━━━╇━━━━━━━━╇━━━━━━━━━━━━╇━━━━━━━━━━━━━━━━━━━━━━━━━━━━╇━━━━━━━━━━━━━━━━━━━━━━━┩  │\n",
              "│ │ \u001b[38;5;141mAttrition_Flag                 \u001b[0m │ \u001b[36m     0\u001b[0m │ \u001b[36m         0\u001b[0m │ \u001b[36m                         2\u001b[0m │ \u001b[36m                20254\u001b[0m │  │\n",
              "│ │ \u001b[38;5;141mGender                         \u001b[0m │ \u001b[36m     0\u001b[0m │ \u001b[36m         0\u001b[0m │ \u001b[36m                         2\u001b[0m │ \u001b[36m                20254\u001b[0m │  │\n",
              "│ │ \u001b[38;5;141mEducation_Level                \u001b[0m │ \u001b[36m     0\u001b[0m │ \u001b[36m         0\u001b[0m │ \u001b[36m                         2\u001b[0m │ \u001b[36m                20254\u001b[0m │  │\n",
              "│ │ \u001b[38;5;141mMarital_Status                 \u001b[0m │ \u001b[36m     0\u001b[0m │ \u001b[36m         0\u001b[0m │ \u001b[36m                         2\u001b[0m │ \u001b[36m                20254\u001b[0m │  │\n",
              "│ │ \u001b[38;5;141mIncome_Category                \u001b[0m │ \u001b[36m     0\u001b[0m │ \u001b[36m         0\u001b[0m │ \u001b[36m                         2\u001b[0m │ \u001b[36m                20254\u001b[0m │  │\n",
              "│ │ \u001b[38;5;141mCard_Category                  \u001b[0m │ \u001b[36m     0\u001b[0m │ \u001b[36m         0\u001b[0m │ \u001b[36m                         2\u001b[0m │ \u001b[36m                20254\u001b[0m │  │\n",
              "│ └─────────────────────────────────┴────────┴────────────┴────────────────────────────┴───────────────────────┘  │\n",
              "╰────────────────────────────────────────────────────── End ──────────────────────────────────────────────────────╯\n"
            ],
            "text/html": [
              "<pre style=\"white-space:pre;overflow-x:auto;line-height:normal;font-family:Menlo,'DejaVu Sans Mono',consolas,'Courier New',monospace\">╭──────────────────────────────────────────────── skimpy summary ─────────────────────────────────────────────────╮\n",
              "│ <span style=\"font-style: italic\">         Data Summary         </span> <span style=\"font-style: italic\">      Data Types       </span>                                                          │\n",
              "│ ┏━━━━━━━━━━━━━━━━━━━┳━━━━━━━━┓ ┏━━━━━━━━━━━━━┳━━━━━━━┓                                                          │\n",
              "│ ┃<span style=\"color: #008080; text-decoration-color: #008080; font-weight: bold\"> dataframe         </span>┃<span style=\"color: #008080; text-decoration-color: #008080; font-weight: bold\"> Values </span>┃ ┃<span style=\"color: #008080; text-decoration-color: #008080; font-weight: bold\"> Column Type </span>┃<span style=\"color: #008080; text-decoration-color: #008080; font-weight: bold\"> Count </span>┃                                                          │\n",
              "│ ┡━━━━━━━━━━━━━━━━━━━╇━━━━━━━━┩ ┡━━━━━━━━━━━━━╇━━━━━━━┩                                                          │\n",
              "│ │ Number of rows    │ 10127  │ │ int64       │ 10    │                                                          │\n",
              "│ │ Number of columns │ 23     │ │ float64     │ 7     │                                                          │\n",
              "│ └───────────────────┴────────┘ │ string      │ 6     │                                                          │\n",
              "│                                └─────────────┴───────┘                                                          │\n",
              "│ <span style=\"font-style: italic\">                                                    number                                                    </span>  │\n",
              "│ ┏━━━━━━━━━━━━━━━━┳━━━━┳━━━━━━┳━━━━━━━━━━━┳━━━━━━━━━━┳━━━━━━━━━━━┳━━━━━━━━━━━┳━━━━━━━━━━━┳━━━━━━━━━━━┳━━━━━━━━┓  │\n",
              "│ ┃<span style=\"font-weight: bold\"> column_name    </span>┃<span style=\"font-weight: bold\"> NA </span>┃<span style=\"font-weight: bold\"> NA % </span>┃<span style=\"font-weight: bold\"> mean      </span>┃<span style=\"font-weight: bold\"> sd       </span>┃<span style=\"font-weight: bold\"> p0        </span>┃<span style=\"font-weight: bold\"> p25       </span>┃<span style=\"font-weight: bold\"> p75       </span>┃<span style=\"font-weight: bold\"> p100      </span>┃<span style=\"font-weight: bold\"> hist   </span>┃  │\n",
              "│ ┡━━━━━━━━━━━━━━━━╇━━━━╇━━━━━━╇━━━━━━━━━━━╇━━━━━━━━━━╇━━━━━━━━━━━╇━━━━━━━━━━━╇━━━━━━━━━━━╇━━━━━━━━━━━╇━━━━━━━━┩  │\n",
              "│ │ <span style=\"color: #af87ff; text-decoration-color: #af87ff\">CLIENTNUM     </span> │ <span style=\"color: #008080; text-decoration-color: #008080\"> 0</span> │ <span style=\"color: #008080; text-decoration-color: #008080\">   0</span> │ <span style=\"color: #008080; text-decoration-color: #008080\">740000000</span> │ <span style=\"color: #008080; text-decoration-color: #008080\">37000000</span> │ <span style=\"color: #008080; text-decoration-color: #008080\">710000000</span> │ <span style=\"color: #008080; text-decoration-color: #008080\">710000000</span> │ <span style=\"color: #008080; text-decoration-color: #008080\">770000000</span> │ <span style=\"color: #008080; text-decoration-color: #008080\">830000000</span> │ <span style=\"color: #008000; text-decoration-color: #008000\">█  ▂▁▁</span> │  │\n",
              "│ │ <span style=\"color: #af87ff; text-decoration-color: #af87ff\">Customer_Age  </span> │ <span style=\"color: #008080; text-decoration-color: #008080\"> 0</span> │ <span style=\"color: #008080; text-decoration-color: #008080\">   0</span> │ <span style=\"color: #008080; text-decoration-color: #008080\">       46</span> │ <span style=\"color: #008080; text-decoration-color: #008080\">       8</span> │ <span style=\"color: #008080; text-decoration-color: #008080\">       26</span> │ <span style=\"color: #008080; text-decoration-color: #008080\">       41</span> │ <span style=\"color: #008080; text-decoration-color: #008080\">       52</span> │ <span style=\"color: #008080; text-decoration-color: #008080\">       73</span> │ <span style=\"color: #008000; text-decoration-color: #008000\">▁▅█▆▂ </span> │  │\n",
              "│ │ <span style=\"color: #af87ff; text-decoration-color: #af87ff\">Dependent_coun</span> │ <span style=\"color: #008080; text-decoration-color: #008080\"> 0</span> │ <span style=\"color: #008080; text-decoration-color: #008080\">   0</span> │ <span style=\"color: #008080; text-decoration-color: #008080\">      2.3</span> │ <span style=\"color: #008080; text-decoration-color: #008080\">     1.3</span> │ <span style=\"color: #008080; text-decoration-color: #008080\">        0</span> │ <span style=\"color: #008080; text-decoration-color: #008080\">        1</span> │ <span style=\"color: #008080; text-decoration-color: #008080\">        3</span> │ <span style=\"color: #008080; text-decoration-color: #008080\">        5</span> │ <span style=\"color: #008000; text-decoration-color: #008000\">▃▅██▅▁</span> │  │\n",
              "│ │ <span style=\"color: #af87ff; text-decoration-color: #af87ff\">t             </span> │    │      │           │          │           │           │           │           │        │  │\n",
              "│ │ <span style=\"color: #af87ff; text-decoration-color: #af87ff\">Months_on_book</span> │ <span style=\"color: #008080; text-decoration-color: #008080\"> 0</span> │ <span style=\"color: #008080; text-decoration-color: #008080\">   0</span> │ <span style=\"color: #008080; text-decoration-color: #008080\">       36</span> │ <span style=\"color: #008080; text-decoration-color: #008080\">       8</span> │ <span style=\"color: #008080; text-decoration-color: #008080\">       13</span> │ <span style=\"color: #008080; text-decoration-color: #008080\">       31</span> │ <span style=\"color: #008080; text-decoration-color: #008080\">       40</span> │ <span style=\"color: #008080; text-decoration-color: #008080\">       56</span> │ <span style=\"color: #008000; text-decoration-color: #008000\">▁▂▄█▃▁</span> │  │\n",
              "│ │ <span style=\"color: #af87ff; text-decoration-color: #af87ff\">Total_Relation</span> │ <span style=\"color: #008080; text-decoration-color: #008080\"> 0</span> │ <span style=\"color: #008080; text-decoration-color: #008080\">   0</span> │ <span style=\"color: #008080; text-decoration-color: #008080\">      3.8</span> │ <span style=\"color: #008080; text-decoration-color: #008080\">     1.6</span> │ <span style=\"color: #008080; text-decoration-color: #008080\">        1</span> │ <span style=\"color: #008080; text-decoration-color: #008080\">        3</span> │ <span style=\"color: #008080; text-decoration-color: #008080\">        5</span> │ <span style=\"color: #008080; text-decoration-color: #008080\">        6</span> │ <span style=\"color: #008000; text-decoration-color: #008000\">▃▄█▇▇▆</span> │  │\n",
              "│ │ <span style=\"color: #af87ff; text-decoration-color: #af87ff\">ship_Count    </span> │    │      │           │          │           │           │           │           │        │  │\n",
              "│ │ <span style=\"color: #af87ff; text-decoration-color: #af87ff\">Months_Inactiv</span> │ <span style=\"color: #008080; text-decoration-color: #008080\"> 0</span> │ <span style=\"color: #008080; text-decoration-color: #008080\">   0</span> │ <span style=\"color: #008080; text-decoration-color: #008080\">      2.3</span> │ <span style=\"color: #008080; text-decoration-color: #008080\">       1</span> │ <span style=\"color: #008080; text-decoration-color: #008080\">        0</span> │ <span style=\"color: #008080; text-decoration-color: #008080\">        2</span> │ <span style=\"color: #008080; text-decoration-color: #008080\">        3</span> │ <span style=\"color: #008080; text-decoration-color: #008080\">        6</span> │ <span style=\"color: #008000; text-decoration-color: #008000\"> ▅▇█▁▁</span> │  │\n",
              "│ │ <span style=\"color: #af87ff; text-decoration-color: #af87ff\">e_12_mon      </span> │    │      │           │          │           │           │           │           │        │  │\n",
              "│ │ <span style=\"color: #af87ff; text-decoration-color: #af87ff\">Contacts_Count</span> │ <span style=\"color: #008080; text-decoration-color: #008080\"> 0</span> │ <span style=\"color: #008080; text-decoration-color: #008080\">   0</span> │ <span style=\"color: #008080; text-decoration-color: #008080\">      2.5</span> │ <span style=\"color: #008080; text-decoration-color: #008080\">     1.1</span> │ <span style=\"color: #008080; text-decoration-color: #008080\">        0</span> │ <span style=\"color: #008080; text-decoration-color: #008080\">        2</span> │ <span style=\"color: #008080; text-decoration-color: #008080\">        3</span> │ <span style=\"color: #008080; text-decoration-color: #008080\">        6</span> │ <span style=\"color: #008000; text-decoration-color: #008000\">▁▄██▃▁</span> │  │\n",
              "│ │ <span style=\"color: #af87ff; text-decoration-color: #af87ff\">_12_mon       </span> │    │      │           │          │           │           │           │           │        │  │\n",
              "│ │ <span style=\"color: #af87ff; text-decoration-color: #af87ff\">Credit_Limit  </span> │ <span style=\"color: #008080; text-decoration-color: #008080\"> 0</span> │ <span style=\"color: #008080; text-decoration-color: #008080\">   0</span> │ <span style=\"color: #008080; text-decoration-color: #008080\">     8600</span> │ <span style=\"color: #008080; text-decoration-color: #008080\">    9100</span> │ <span style=\"color: #008080; text-decoration-color: #008080\">     1400</span> │ <span style=\"color: #008080; text-decoration-color: #008080\">     2600</span> │ <span style=\"color: #008080; text-decoration-color: #008080\">    11000</span> │ <span style=\"color: #008080; text-decoration-color: #008080\">    35000</span> │ <span style=\"color: #008000; text-decoration-color: #008000\">█▂▁▁ ▁</span> │  │\n",
              "│ │ <span style=\"color: #af87ff; text-decoration-color: #af87ff\">Total_Revolvin</span> │ <span style=\"color: #008080; text-decoration-color: #008080\"> 0</span> │ <span style=\"color: #008080; text-decoration-color: #008080\">   0</span> │ <span style=\"color: #008080; text-decoration-color: #008080\">     1200</span> │ <span style=\"color: #008080; text-decoration-color: #008080\">     810</span> │ <span style=\"color: #008080; text-decoration-color: #008080\">        0</span> │ <span style=\"color: #008080; text-decoration-color: #008080\">      360</span> │ <span style=\"color: #008080; text-decoration-color: #008080\">     1800</span> │ <span style=\"color: #008080; text-decoration-color: #008080\">     2500</span> │ <span style=\"color: #008000; text-decoration-color: #008000\">█▂▅▇▅▄</span> │  │\n",
              "│ │ <span style=\"color: #af87ff; text-decoration-color: #af87ff\">g_Bal         </span> │    │      │           │          │           │           │           │           │        │  │\n",
              "│ │ <span style=\"color: #af87ff; text-decoration-color: #af87ff\">Avg_Open_To_Bu</span> │ <span style=\"color: #008080; text-decoration-color: #008080\"> 0</span> │ <span style=\"color: #008080; text-decoration-color: #008080\">   0</span> │ <span style=\"color: #008080; text-decoration-color: #008080\">     7500</span> │ <span style=\"color: #008080; text-decoration-color: #008080\">    9100</span> │ <span style=\"color: #008080; text-decoration-color: #008080\">        3</span> │ <span style=\"color: #008080; text-decoration-color: #008080\">     1300</span> │ <span style=\"color: #008080; text-decoration-color: #008080\">     9900</span> │ <span style=\"color: #008080; text-decoration-color: #008080\">    35000</span> │ <span style=\"color: #008000; text-decoration-color: #008000\">█▂▁▁ ▁</span> │  │\n",
              "│ │ <span style=\"color: #af87ff; text-decoration-color: #af87ff\">y             </span> │    │      │           │          │           │           │           │           │        │  │\n",
              "│ │ <span style=\"color: #af87ff; text-decoration-color: #af87ff\">Total_Amt_Chng</span> │ <span style=\"color: #008080; text-decoration-color: #008080\"> 0</span> │ <span style=\"color: #008080; text-decoration-color: #008080\">   0</span> │ <span style=\"color: #008080; text-decoration-color: #008080\">     0.76</span> │ <span style=\"color: #008080; text-decoration-color: #008080\">    0.22</span> │ <span style=\"color: #008080; text-decoration-color: #008080\">        0</span> │ <span style=\"color: #008080; text-decoration-color: #008080\">     0.63</span> │ <span style=\"color: #008080; text-decoration-color: #008080\">     0.86</span> │ <span style=\"color: #008080; text-decoration-color: #008080\">      3.4</span> │ <span style=\"color: #008000; text-decoration-color: #008000\">  ▁█  </span> │  │\n",
              "│ │ <span style=\"color: #af87ff; text-decoration-color: #af87ff\">_Q4_Q1        </span> │    │      │           │          │           │           │           │           │        │  │\n",
              "│ │ <span style=\"color: #af87ff; text-decoration-color: #af87ff\">Total_Trans_Am</span> │ <span style=\"color: #008080; text-decoration-color: #008080\"> 0</span> │ <span style=\"color: #008080; text-decoration-color: #008080\">   0</span> │ <span style=\"color: #008080; text-decoration-color: #008080\">     4400</span> │ <span style=\"color: #008080; text-decoration-color: #008080\">    3400</span> │ <span style=\"color: #008080; text-decoration-color: #008080\">      510</span> │ <span style=\"color: #008080; text-decoration-color: #008080\">     2200</span> │ <span style=\"color: #008080; text-decoration-color: #008080\">     4700</span> │ <span style=\"color: #008080; text-decoration-color: #008080\">    18000</span> │ <span style=\"color: #008000; text-decoration-color: #008000\">██▁ ▁ </span> │  │\n",
              "│ │ <span style=\"color: #af87ff; text-decoration-color: #af87ff\">t             </span> │    │      │           │          │           │           │           │           │        │  │\n",
              "│ │ <span style=\"color: #af87ff; text-decoration-color: #af87ff\">Total_Trans_Ct</span> │ <span style=\"color: #008080; text-decoration-color: #008080\"> 0</span> │ <span style=\"color: #008080; text-decoration-color: #008080\">   0</span> │ <span style=\"color: #008080; text-decoration-color: #008080\">       65</span> │ <span style=\"color: #008080; text-decoration-color: #008080\">      23</span> │ <span style=\"color: #008080; text-decoration-color: #008080\">       10</span> │ <span style=\"color: #008080; text-decoration-color: #008080\">       45</span> │ <span style=\"color: #008080; text-decoration-color: #008080\">       81</span> │ <span style=\"color: #008080; text-decoration-color: #008080\">      140</span> │ <span style=\"color: #008000; text-decoration-color: #008000\">▂▆█▇▂▁</span> │  │\n",
              "│ │ <span style=\"color: #af87ff; text-decoration-color: #af87ff\">Total_Ct_Chng_</span> │ <span style=\"color: #008080; text-decoration-color: #008080\"> 0</span> │ <span style=\"color: #008080; text-decoration-color: #008080\">   0</span> │ <span style=\"color: #008080; text-decoration-color: #008080\">     0.71</span> │ <span style=\"color: #008080; text-decoration-color: #008080\">    0.24</span> │ <span style=\"color: #008080; text-decoration-color: #008080\">        0</span> │ <span style=\"color: #008080; text-decoration-color: #008080\">     0.58</span> │ <span style=\"color: #008080; text-decoration-color: #008080\">     0.82</span> │ <span style=\"color: #008080; text-decoration-color: #008080\">      3.7</span> │ <span style=\"color: #008000; text-decoration-color: #008000\">  ▄█  </span> │  │\n",
              "│ │ <span style=\"color: #af87ff; text-decoration-color: #af87ff\">Q4_Q1         </span> │    │      │           │          │           │           │           │           │        │  │\n",
              "│ │ <span style=\"color: #af87ff; text-decoration-color: #af87ff\">Avg_Utilizatio</span> │ <span style=\"color: #008080; text-decoration-color: #008080\"> 0</span> │ <span style=\"color: #008080; text-decoration-color: #008080\">   0</span> │ <span style=\"color: #008080; text-decoration-color: #008080\">     0.27</span> │ <span style=\"color: #008080; text-decoration-color: #008080\">    0.28</span> │ <span style=\"color: #008080; text-decoration-color: #008080\">        0</span> │ <span style=\"color: #008080; text-decoration-color: #008080\">    0.023</span> │ <span style=\"color: #008080; text-decoration-color: #008080\">      0.5</span> │ <span style=\"color: #008080; text-decoration-color: #008080\">        1</span> │ <span style=\"color: #008000; text-decoration-color: #008000\">█▂▂▂▂▁</span> │  │\n",
              "│ │ <span style=\"color: #af87ff; text-decoration-color: #af87ff\">n_Ratio       </span> │    │      │           │          │           │           │           │           │        │  │\n",
              "│ │ <span style=\"color: #af87ff; text-decoration-color: #af87ff\">Naive_Bayes_Cl</span> │ <span style=\"color: #008080; text-decoration-color: #008080\"> 0</span> │ <span style=\"color: #008080; text-decoration-color: #008080\">   0</span> │ <span style=\"color: #008080; text-decoration-color: #008080\">     0.16</span> │ <span style=\"color: #008080; text-decoration-color: #008080\">    0.37</span> │ <span style=\"color: #008080; text-decoration-color: #008080\">  7.7e-06</span> │ <span style=\"color: #008080; text-decoration-color: #008080\">  9.9e-05</span> │ <span style=\"color: #008080; text-decoration-color: #008080\">  0.00034</span> │ <span style=\"color: #008080; text-decoration-color: #008080\">        1</span> │ <span style=\"color: #008000; text-decoration-color: #008000\">█    ▂</span> │  │\n",
              "│ │ <span style=\"color: #af87ff; text-decoration-color: #af87ff\">assifier_Attri</span> │    │      │           │          │           │           │           │           │        │  │\n",
              "│ │ <span style=\"color: #af87ff; text-decoration-color: #af87ff\">tion_Flag_Card</span> │    │      │           │          │           │           │           │           │        │  │\n",
              "│ │ <span style=\"color: #af87ff; text-decoration-color: #af87ff\">_Category_Cont</span> │    │      │           │          │           │           │           │           │        │  │\n",
              "│ │ <span style=\"color: #af87ff; text-decoration-color: #af87ff\">acts_Count_12_</span> │    │      │           │          │           │           │           │           │        │  │\n",
              "│ │ <span style=\"color: #af87ff; text-decoration-color: #af87ff\">mon_Dependent_</span> │    │      │           │          │           │           │           │           │        │  │\n",
              "│ │ <span style=\"color: #af87ff; text-decoration-color: #af87ff\">count_Educatio</span> │    │      │           │          │           │           │           │           │        │  │\n",
              "│ │ <span style=\"color: #af87ff; text-decoration-color: #af87ff\">n_Level_Months</span> │    │      │           │          │           │           │           │           │        │  │\n",
              "│ │ <span style=\"color: #af87ff; text-decoration-color: #af87ff\">_Inactive_12_m</span> │    │      │           │          │           │           │           │           │        │  │\n",
              "│ │ <span style=\"color: #af87ff; text-decoration-color: #af87ff\">on_1          </span> │    │      │           │          │           │           │           │           │        │  │\n",
              "│ │ <span style=\"color: #af87ff; text-decoration-color: #af87ff\">Naive_Bayes_Cl</span> │ <span style=\"color: #008080; text-decoration-color: #008080\"> 0</span> │ <span style=\"color: #008080; text-decoration-color: #008080\">   0</span> │ <span style=\"color: #008080; text-decoration-color: #008080\">     0.84</span> │ <span style=\"color: #008080; text-decoration-color: #008080\">    0.37</span> │ <span style=\"color: #008080; text-decoration-color: #008080\">  0.00042</span> │ <span style=\"color: #008080; text-decoration-color: #008080\">        1</span> │ <span style=\"color: #008080; text-decoration-color: #008080\">        1</span> │ <span style=\"color: #008080; text-decoration-color: #008080\">        1</span> │ <span style=\"color: #008000; text-decoration-color: #008000\">▂    █</span> │  │\n",
              "│ │ <span style=\"color: #af87ff; text-decoration-color: #af87ff\">assifier_Attri</span> │    │      │           │          │           │           │           │           │        │  │\n",
              "│ │ <span style=\"color: #af87ff; text-decoration-color: #af87ff\">tion_Flag_Card</span> │    │      │           │          │           │           │           │           │        │  │\n",
              "│ │ <span style=\"color: #af87ff; text-decoration-color: #af87ff\">_Category_Cont</span> │    │      │           │          │           │           │           │           │        │  │\n",
              "│ │ <span style=\"color: #af87ff; text-decoration-color: #af87ff\">acts_Count_12_</span> │    │      │           │          │           │           │           │           │        │  │\n",
              "│ │ <span style=\"color: #af87ff; text-decoration-color: #af87ff\">mon_Dependent_</span> │    │      │           │          │           │           │           │           │        │  │\n",
              "│ │ <span style=\"color: #af87ff; text-decoration-color: #af87ff\">count_Educatio</span> │    │      │           │          │           │           │           │           │        │  │\n",
              "│ │ <span style=\"color: #af87ff; text-decoration-color: #af87ff\">n_Level_Months</span> │    │      │           │          │           │           │           │           │        │  │\n",
              "│ │ <span style=\"color: #af87ff; text-decoration-color: #af87ff\">_Inactive_12_m</span> │    │      │           │          │           │           │           │           │        │  │\n",
              "│ │ <span style=\"color: #af87ff; text-decoration-color: #af87ff\">on_2          </span> │    │      │           │          │           │           │           │           │        │  │\n",
              "│ └────────────────┴────┴──────┴───────────┴──────────┴───────────┴───────────┴───────────┴───────────┴────────┘  │\n",
              "│ <span style=\"font-style: italic\">                                                    string                                                    </span>  │\n",
              "│ ┏━━━━━━━━━━━━━━━━━━━━━━━━━━━━━━━━━┳━━━━━━━━┳━━━━━━━━━━━━┳━━━━━━━━━━━━━━━━━━━━━━━━━━━━┳━━━━━━━━━━━━━━━━━━━━━━━┓  │\n",
              "│ ┃<span style=\"font-weight: bold\"> column_name                     </span>┃<span style=\"font-weight: bold\"> NA     </span>┃<span style=\"font-weight: bold\"> NA %       </span>┃<span style=\"font-weight: bold\"> words per row              </span>┃<span style=\"font-weight: bold\"> total words           </span>┃  │\n",
              "│ ┡━━━━━━━━━━━━━━━━━━━━━━━━━━━━━━━━━╇━━━━━━━━╇━━━━━━━━━━━━╇━━━━━━━━━━━━━━━━━━━━━━━━━━━━╇━━━━━━━━━━━━━━━━━━━━━━━┩  │\n",
              "│ │ <span style=\"color: #af87ff; text-decoration-color: #af87ff\">Attrition_Flag                 </span> │ <span style=\"color: #008080; text-decoration-color: #008080\">     0</span> │ <span style=\"color: #008080; text-decoration-color: #008080\">         0</span> │ <span style=\"color: #008080; text-decoration-color: #008080\">                         2</span> │ <span style=\"color: #008080; text-decoration-color: #008080\">                20254</span> │  │\n",
              "│ │ <span style=\"color: #af87ff; text-decoration-color: #af87ff\">Gender                         </span> │ <span style=\"color: #008080; text-decoration-color: #008080\">     0</span> │ <span style=\"color: #008080; text-decoration-color: #008080\">         0</span> │ <span style=\"color: #008080; text-decoration-color: #008080\">                         2</span> │ <span style=\"color: #008080; text-decoration-color: #008080\">                20254</span> │  │\n",
              "│ │ <span style=\"color: #af87ff; text-decoration-color: #af87ff\">Education_Level                </span> │ <span style=\"color: #008080; text-decoration-color: #008080\">     0</span> │ <span style=\"color: #008080; text-decoration-color: #008080\">         0</span> │ <span style=\"color: #008080; text-decoration-color: #008080\">                         2</span> │ <span style=\"color: #008080; text-decoration-color: #008080\">                20254</span> │  │\n",
              "│ │ <span style=\"color: #af87ff; text-decoration-color: #af87ff\">Marital_Status                 </span> │ <span style=\"color: #008080; text-decoration-color: #008080\">     0</span> │ <span style=\"color: #008080; text-decoration-color: #008080\">         0</span> │ <span style=\"color: #008080; text-decoration-color: #008080\">                         2</span> │ <span style=\"color: #008080; text-decoration-color: #008080\">                20254</span> │  │\n",
              "│ │ <span style=\"color: #af87ff; text-decoration-color: #af87ff\">Income_Category                </span> │ <span style=\"color: #008080; text-decoration-color: #008080\">     0</span> │ <span style=\"color: #008080; text-decoration-color: #008080\">         0</span> │ <span style=\"color: #008080; text-decoration-color: #008080\">                         2</span> │ <span style=\"color: #008080; text-decoration-color: #008080\">                20254</span> │  │\n",
              "│ │ <span style=\"color: #af87ff; text-decoration-color: #af87ff\">Card_Category                  </span> │ <span style=\"color: #008080; text-decoration-color: #008080\">     0</span> │ <span style=\"color: #008080; text-decoration-color: #008080\">         0</span> │ <span style=\"color: #008080; text-decoration-color: #008080\">                         2</span> │ <span style=\"color: #008080; text-decoration-color: #008080\">                20254</span> │  │\n",
              "│ └─────────────────────────────────┴────────┴────────────┴────────────────────────────┴───────────────────────┘  │\n",
              "╰────────────────────────────────────────────────────── End ──────────────────────────────────────────────────────╯\n",
              "</pre>\n"
            ]
          },
          "metadata": {}
        }
      ]
    },
    {
      "cell_type": "markdown",
      "source": [
        "The table above shows the distribution of our different numerical columns, we'll refer back to the histograms as we proceed with the EDA.\n",
        "\n",
        "Also, great! No null values, let's check for duplicates"
      ],
      "metadata": {
        "id": "tgyregWDcJ-6"
      }
    },
    {
      "cell_type": "code",
      "source": [
        "df.duplicated().sum()"
      ],
      "metadata": {
        "colab": {
          "base_uri": "https://localhost:8080/"
        },
        "id": "hex6qopDcSB9",
        "outputId": "995cd76a-6b6a-4043-cd2f-46926ad58397"
      },
      "execution_count": 4,
      "outputs": [
        {
          "output_type": "execute_result",
          "data": {
            "text/plain": [
              "0"
            ]
          },
          "metadata": {},
          "execution_count": 4
        }
      ]
    },
    {
      "cell_type": "markdown",
      "source": [
        "Amazing! No duplicates. We're lucky to have such a clean dataset!\n",
        "\n",
        "Now, let's see how many unique values each categorical column has"
      ],
      "metadata": {
        "id": "Kz9zcvHgcYB3"
      }
    },
    {
      "cell_type": "code",
      "source": [
        "cat_col = ['Attrition_Flag', 'Gender', 'Education_Level', 'Marital_Status', 'Income_Category', 'Card_Category']\n",
        "df[cat_col].nunique()"
      ],
      "metadata": {
        "colab": {
          "base_uri": "https://localhost:8080/"
        },
        "id": "WHi4lFx8cHaH",
        "outputId": "5724b7e2-f5f8-4693-ed31-584a0f03018e"
      },
      "execution_count": 5,
      "outputs": [
        {
          "output_type": "execute_result",
          "data": {
            "text/plain": [
              "Attrition_Flag     2\n",
              "Gender             2\n",
              "Education_Level    7\n",
              "Marital_Status     4\n",
              "Income_Category    6\n",
              "Card_Category      4\n",
              "dtype: int64"
            ]
          },
          "metadata": {},
          "execution_count": 5
        }
      ]
    },
    {
      "cell_type": "markdown",
      "source": [
        "Let's save our numerical data in another variable and well, also see how many unique values each has"
      ],
      "metadata": {
        "id": "wzEp1knAlBLM"
      }
    },
    {
      "cell_type": "code",
      "source": [
        "num_col = df.drop(columns=cat_col)\n",
        "num_col = num_col.drop(columns=['CLIENTNUM', 'Naive_Bayes_Classifier_Attrition_Flag_Card_Category_Contacts_Count_12_mon_Dependent_count_Education_Level_Months_Inactive_12_mon_1', 'Naive_Bayes_Classifier_Attrition_Flag_Card_Category_Contacts_Count_12_mon_Dependent_count_Education_Level_Months_Inactive_12_mon_2'])\n",
        "num_col.nunique()"
      ],
      "metadata": {
        "id": "Zvr3FC7egxac",
        "colab": {
          "base_uri": "https://localhost:8080/"
        },
        "outputId": "717f4ee8-990f-4b26-fdad-6bb7b4d2a380"
      },
      "execution_count": 6,
      "outputs": [
        {
          "output_type": "execute_result",
          "data": {
            "text/plain": [
              "Customer_Age                  45\n",
              "Dependent_count                6\n",
              "Months_on_book                44\n",
              "Total_Relationship_Count       6\n",
              "Months_Inactive_12_mon         7\n",
              "Contacts_Count_12_mon          7\n",
              "Credit_Limit                6205\n",
              "Total_Revolving_Bal         1974\n",
              "Avg_Open_To_Buy             6813\n",
              "Total_Amt_Chng_Q4_Q1        1158\n",
              "Total_Trans_Amt             5033\n",
              "Total_Trans_Ct               126\n",
              "Total_Ct_Chng_Q4_Q1          830\n",
              "Avg_Utilization_Ratio        964\n",
              "dtype: int64"
            ]
          },
          "metadata": {},
          "execution_count": 6
        }
      ]
    },
    {
      "cell_type": "code",
      "source": [
        "df.columns"
      ],
      "metadata": {
        "colab": {
          "base_uri": "https://localhost:8080/"
        },
        "id": "8zdXGuoOmmny",
        "outputId": "0db2112c-fe6c-4b7c-fb75-3f1181ba820e"
      },
      "execution_count": 7,
      "outputs": [
        {
          "output_type": "execute_result",
          "data": {
            "text/plain": [
              "Index(['CLIENTNUM', 'Attrition_Flag', 'Customer_Age', 'Gender',\n",
              "       'Dependent_count', 'Education_Level', 'Marital_Status',\n",
              "       'Income_Category', 'Card_Category', 'Months_on_book',\n",
              "       'Total_Relationship_Count', 'Months_Inactive_12_mon',\n",
              "       'Contacts_Count_12_mon', 'Credit_Limit', 'Total_Revolving_Bal',\n",
              "       'Avg_Open_To_Buy', 'Total_Amt_Chng_Q4_Q1', 'Total_Trans_Amt',\n",
              "       'Total_Trans_Ct', 'Total_Ct_Chng_Q4_Q1', 'Avg_Utilization_Ratio',\n",
              "       'Naive_Bayes_Classifier_Attrition_Flag_Card_Category_Contacts_Count_12_mon_Dependent_count_Education_Level_Months_Inactive_12_mon_1',\n",
              "       'Naive_Bayes_Classifier_Attrition_Flag_Card_Category_Contacts_Count_12_mon_Dependent_count_Education_Level_Months_Inactive_12_mon_2'],\n",
              "      dtype='object')"
            ]
          },
          "metadata": {},
          "execution_count": 7
        }
      ]
    },
    {
      "cell_type": "markdown",
      "source": [
        "##  Univariate Analysis"
      ],
      "metadata": {
        "id": "NmLK0KInn1TC"
      }
    },
    {
      "cell_type": "code",
      "source": [
        "# Store continuous data in a variable for univariate analysis\n",
        "con_col = num_col.drop(columns=['Dependent_count', 'Total_Relationship_Count', 'Months_Inactive_12_mon', 'Contacts_Count_12_mon'])\n",
        "plt.rcParams['font.size'] = 6\n",
        "fig, axes = plt.subplots(2, 5, figsize=(20, 10))\n",
        "axes = axes.ravel()\n",
        "\n",
        "for i, col in enumerate(con_col):\n",
        "    sns.kdeplot(df[col], ax=axes[i], fill=True)\n",
        "    axes[i].set_title(f'Density Plot of {col}')\n",
        "\n",
        "plt.tight_layout()\n",
        "plt.show()"
      ],
      "metadata": {
        "colab": {
          "base_uri": "https://localhost:8080/",
          "height": 566