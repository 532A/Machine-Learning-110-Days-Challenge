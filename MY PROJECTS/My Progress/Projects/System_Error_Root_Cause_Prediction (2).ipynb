
{
 "cells": [
  {
   "cell_type": "markdown",
   "metadata": {
    "id": "aQL0SVcpmy4I"
   },
   "source": [
    "<img src=\"https://static.vecteezy.com/system/resources/previews/002/779/437/original/system-error-concept-programmers-working-with-system-error-illustration-flat-vector.jpg\" style=\"float: left;\" width=\"500\" height=\"500\" />\n",
    "\n",
    "## SYSTEM ERROR ROOT CAUSE PREDICTION  **With Tensorflow**\n",
    "### Day 23 of 110 Days of ML Challenge\n",
    "#### Project by Anjolaoluwa (Dataprincess)\n",
    "\n",
    "**Scenario:**\n",
    "A data center wants to build a model to predict causes of issues reported by customers. They already have a system monitoring tool to track CPU, Memory, and application latency for all servers. In addition, they also track specific errors reported by applications.\n",
    "\n",
    "**Problem Statement:**\n",
    "Using data about CPU load, memory load, network delays, and 3 different types of error, predict the root cause of system errors using a Keras model."
   ]
  },
  {
   "cell_type": "markdown",
   "metadata": {
    "id": "LAcM0TzmrRmj"
   },
   "source": [
    "# Approach\n",
    "\n",
    "- Data preprocessing\n",
    "- Model building\n",
    "- Model training\n",
    "- Model evaluation\n",
    "- Prediction"
   ]
  },
  {
   "cell_type": "markdown",
   "metadata": {
    "id": "lTPcEqjYvvzl"
   },
   "source": [
    "# Import required libraries"
   ]
  },
  {
   "cell_type": "code",
   "execution_count": 55,
   "metadata": {
    "id": "H98H0hIyj3ZF"
   },
   "outputs": [],
   "source": [
    "# Data Preprocessing\n",
    "import pandas as pd\n",
    "import numpy as np\n",
    "from sklearn.model_selection import train_test_split\n",
    "from sklearn.preprocessing import StandardScaler\n",
    "from sklearn.preprocessing import LabelEncoder\n",
    "\n",
    "# Model Building\n",
    "import tensorflow as tf\n",
    "from tensorflow import keras\n",
    "\n",
    "# Model Evaluation\n",
    "import matplotlib.pyplot as plt"
   ]
  },
  {
   "cell_type": "code",
   "execution_count": 56,
   "metadata": {
    "colab": {
     "base_uri": "https://localhost:8080/",
     "height": 237
    },
    "id": "rBjALx_lkEtS",
    "outputId": "06057e39-a730-48b4-ba9e-676924f3d6ad"
   },
   "outputs": [
    {
     "data": {
      "text/html": [
       "\n",
       "\n",
       "  <div id=\"df-bd28eda7-3ff2-462b-83e9-776c1fc5a904\">\n",
       "    <div class=\"colab-df-container\">\n",
       "      <div>\n",
       "<style scoped>\n",
       "    .dataframe tbody tr th:only-of-type {\n",
       "        vertical-align: middle;\n",
       "    }\n",
       "\n",
       "    .dataframe tbody tr th {\n",
       "        vertical-align: top;\n",
       "    }\n",
       "\n",
       "    .dataframe thead th {\n",
       "        text-align: right;\n",
       "    }\n",
       "</style>\n",
       "<table border=\"1\" class=\"dataframe\">\n",
       "  <thead>\n",
       "    <tr style=\"text-align: right;\">\n",
       "      <th></th>\n",
       "      <th>CPU_LOAD</th>\n",
       "      <th>MEMORY_LEAK_LOAD</th>\n",
       "      <th>DELAY</th>\n",
       "      <th>ERROR_1000</th>\n",
       "      <th>ERROR_1001</th>\n",
       "      <th>ERROR_1002</th>\n",
       "      <th>ERROR_1003</th>\n",
       "      <th>ROOT_CAUSE</th>\n",