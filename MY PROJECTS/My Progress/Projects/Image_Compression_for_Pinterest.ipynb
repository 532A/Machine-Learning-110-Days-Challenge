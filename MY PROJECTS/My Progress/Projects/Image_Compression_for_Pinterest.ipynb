
{
  "nbformat": 4,
  "nbformat_minor": 0,
  "metadata": {
    "colab": {
      "provenance": []
    },
    "kernelspec": {
      "name": "python3",
      "display_name": "Python 3"
    },
    "language_info": {
      "name": "python"
    }
  },
  "cells": [
    {
      "cell_type": "markdown",
      "source": [
        "# IMAGE COMPRESSION USING K-MEANS\n",
        "\n",
        "## Day 18 of 110 Days of ML Challenge\n",
        "### Project by Anjolaoluwa (Dataprincess)\n",
        "\n",
        "![Pinterest Logo](https://encrypted-tbn0.gstatic.com/images?q=tbn:ANd9GcSxzPSOgtvk2CiTEV8kWEXJIdiOuTCUBtUg0Q&usqp=CAU)\n",
        "\n",
        " Scenario:\n",
        "\n",
        "I'm a Machine Learning Engineer at Pinterest (A social media platform that allows users to upload and share photos).\n",
        "\n",
        "Pinterest Product team is looking for ways to enhance user experience by reducing image loading times without significantly sacrificing image quality.\n",
        "\n",
        "As an ML engineer in the team, this is how I'll handle this problem:\n",
        "\n",
        "-  Data Preparation\n",
        "-  K-means Clustering\n",
        "- Image Reconstruction\n",
        "- Evaluate and Display\n",
        "\n",
        "Let's go!\n",
        "\n",
        "\n",
        "\n"
      ],
      "metadata": {
        "id": "aX9qx9dgyQuP"
      }
    },
    {
      "cell_type": "markdown",
      "source": [
        "## Data Preparation\n",
        "\n",
        "The data we'll be using is a simple image of the sunset\n",
        "\n",
        "![sunset image](https://upload.wikimedia.org/wikipedia/commons/thumb/9/9a/Cape_may.jpg/640px-Cape_may.jpg)"
      ],
      "metadata": {
        "id": "UoBospUb3nes"
      }
    },
    {
      "cell_type": "code",
      "source": [
        "# Import necessary libraries\n",
        "import numpy as np\n",
        "from PIL import Image"
      ],
      "metadata": {
        "id": "8rdxc1ak4ATp"
      },
      "execution_count": 23,
      "outputs": []
    },
    {
      "cell_type": "code",
      "execution_count": 24,
      "metadata": {
        "id": "U2m2tOApvzow"
      },
      "outputs": [],
      "source": [
        "# Load the image\n",
        "image_path = \"/content/sunset wiki.jpg\"\n",
        "image = Image.open(image_path)"
      ]
    },
    {
      "cell_type": "markdown",
      "source": [
        "### Feature Extraction\n",
        "\n",
        "We'll flatten the image matrix into a 1D numpy array, where each element represents the pixel intensity of a specific channel (R, G, B)"
      ],
      "metadata": {
        "id": "B6vZftCm4RTE"
      }
    },
    {
      "cell_type": "code",
      "source": [
        "# Convert the image to a numpy array\n",
        "image_array = np.array(image)\n",
        "\n",
        "# Flatten the image array\n",
        "pixels = image_array.reshape(-1, 3)\n"
      ],
      "metadata": {
        "id": "QSkxZlu74MRa"
      },
      "execution_count": 25,
      "outputs": []
    },
    {
      "cell_type": "markdown",
      "source": [
        "## K-Means Clustering"
      ],
      "metadata": {
        "id": "P4umqB0L4mUP"
      }
    },
    {
      "cell_type": "code",
      "source": [
        "# Load required libraries\n",
        "from sklearn.cluster import KMeans\n",
        "from sklearn.preprocessing import StandardScaler\n",
        "\n",
        "# Normalize pixel values to [0, 1]\n",
        "scaler = StandardScaler()\n",
        "normalized_pixels = scaler.fit_transform(pixels)\n",
        "\n",
        "# Choose the number of clusters\n",
        "K = 64\n",
        "\n",
        "# Initialize K-means\n",
        "kmeans = KMeans(n_clusters=K, random_state=0)\n",
        "\n",
        "# Fit K-means to the normalized pixel data\n",
        "kmeans.fit(normalized_pixels)\n",
        "\n",
        "# Get cluster centers\n",
        "cluster_centers = kmeans.cluster_centers_\n"
      ],
      "metadata": {
        "colab": {
          "base_uri": "https://localhost:8080/"
        },
        "id": "R3G7TwlQ4lbV",
        "outputId": "ebd8bd2b-32c7-41bf-f0b2-b6ecec0dfe5a"
      },
      "execution_count": 26,
      "outputs": [
        {
          "output_type": "stream",
          "name": "stderr",
          "text": [
            "/usr/local/lib/python3.10/dist-packages/sklearn/cluster/_kmeans.py:870: FutureWarning: The default value of `n_init` will change from 10 to 'auto' in 1.4. Set the value of `n_init` explicitly to suppress the warning\n",
            "  warnings.warn(\n"
          ]
        }
      ]
    },
    {
      "cell_type": "markdown",
      "source": [
        "## Image Reconstruction"
      ],
      "metadata": {
        "id": "XMU4OXJE50N3"
      }
    },
    {
      "cell_type": "code",
      "source": [
        "# Get cluster assignments for each normalized pixel\n",
        "cluster_assignments = kmeans.predict(normalized_pixels)\n",
        "\n",
        "# Replace normalized pixel values with cluster center values\n",
        "compressed_normalized_pixels = cluster_centers[cluster_assignments]\n",
        "\n",
        "# Rescale the compressed normalized pixels back to the original scale\n",
        "compressed_pixels = scaler.inverse_transform(compressed_normalized_pixels)\n",
        "\n",
        "# Reshape the compressed pixels back to the image shape\n",
        "compressed_image_array = compressed_pixels.reshape(image_array.shape)\n",
        "compressed_image = Image.fromarray(np.uint8(compressed_image_array))\n"
      ],
      "metadata": {
        "id": "LPhEJpAb5qiU"
      },
      "execution_count": 27,
      "outputs": []
    },
    {
      "cell_type": "markdown",
      "source": [
        "## Evaluation and Display"
      ],
      "metadata": {
        "id": "AxPpvrPU6RtU"
      }
    },
    {
      "cell_type": "code",
      "source": [
        "import matplotlib.pyplot as plt\n",
        "\n",
        "# Calculate the sizes of the original and compressed data\n",
        "original_size = pixels.nbytes\n",
        "cluster_assignment_size = len(cluster_assignments) * np.ceil(np.log2(K)) / 8  # Size of cluster assignments in bytes\n",
        "cluster_center_size = cluster_centers.nbytes\n",
        "\n",
        "# Calculate the total compressed size\n",
        "compressed_size = cluster_assignment_size + cluster_center_size\n",
        "\n",
        "# Calculate the compression ratio\n",
        "compression_ratio = original_size / compressed_size\n",
        "\n",
        "# Display images\n",
        "plt.figure(figsize=(10, 5))\n",
        "plt.subplot(1, 2, 1)\n",
        "plt.imshow(image)\n",
        "plt.title(\"Original Image\")\n",
        "\n",
        "plt.subplot(1, 2, 2)\n",
        "plt.imshow(compressed_image)\n",
        "plt.title(f\"Compressed Image (Ratio: {compression_ratio:.2f})\")\n",
        "\n",
        "plt.tight_layout()\n",
        "plt.show()\n",
        "\n",
        "print(f\"Orignal size: {original_size/1024} kb \\nCompressed size: {compressed_size/1024} kb\")\n"
      ],
      "metadata": {
        "colab": {
          "base_uri": "https://localhost:8080/",
          "height": 389
        },