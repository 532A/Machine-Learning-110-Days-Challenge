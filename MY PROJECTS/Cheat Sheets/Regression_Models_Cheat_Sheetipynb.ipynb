{
  "nbformat": 4,
  "nbformat_minor": 0,
  "metadata": {
    "colab": {
      "provenance": []
    },
    "kernelspec": {
      "name": "python3",
      "display_name": "Python 3"
    },
    "language_info": {
      "name": "python"
    }
  },
  "cells": [
    {
      "cell_type": "markdown",
      "source": [
        "# REGRESSION MODELS CHEAT SHEET\n",
        "This notebook contains:\n",
        "- 10 most common regression models\n",
        "- When to use them\n",
        "- Their syntaxes (for importing, fitting, testing)"
      ],
      "metadata": {
        "id": "KHQu82BPbGEP"
      }
    },
    {
      "cell_type": "markdown",
      "source": [
        "## For the sake of this cheat sheet\n",
        "We'll load some data into the notebook to see the models in action\n",
        "\n"
      ],
      "metadata": {
        "id": "zMIFtLL3cGx_"
      }
    },
    {
      "cell_type": "code",
      "source": [
        "import pandas as pd\n",
        "df_train = pd.read_csv('/content/sample_data/california_housing_train.csv')\n",
        "df_test = pd.read_csv('/content/sample_data/california_housing_test.csv')\n",
        "\n",
        "df_train.columns"
      ],
      "metadata": {
        "colab": {
          "base_uri": "https://localhost:8080/"
        },
        "id": "cUzFF5T3cGSM",
        "outputId": "75631f2f-99fc-44f4-ef02-c295b94e9859"
      },
      "execution_count": null,
      "outputs": [
        {
          "output_type": "execute_result",
          "data": {
            "text/plain": [
              "Index(['longitude', 'latitude', 'housing_median_age', 'total_rooms',\n",
              "       'total_bedrooms', 'population', 'households', 'median_income',\n",
              "       'median_house_value'],\n",
              "      dtype='object')"
            ]
          },
          "metadata": {},
          "execution_count": 25
        }
      ]
    },
    {
      "cell_type": "code",
      "source": [
        "X_train = df_train[['housing_median_age', 'total_rooms','total_bedrooms', 'population', 'households', 'median_income']]\n",
        "y_train = df_train['median_house_value']\n",
        "\n",
        "X_test = df_test[['housing_median_age', 'total_rooms','total_bedrooms', 'population', 'households', 'median_income']]\n",
        "y_test = df_test['median_house_value']"
      ],
      "metadata": {
        "id": "oPgvmwIYdBto"
      },
      "execution_count": null,
      "outputs": []
    },
    {
      "cell_type": "markdown",
      "source": [
        "## **1. Linear Regression**\n",
        "\n",
        "To be used:\n",
        "- When the relationship between the features and the target variable is linear.\n",
        "- When you need a simple and interpretable model for regression tasks.\n"
      ],
      "metadata": {
        "id": "RTdRWQEEbjaS"
      }
    },
    {
      "cell_type": "code",
      "execution_count": null,
      "metadata": {
        "colab": {
          "base_uri": "https://localhost:8080/"
        },
        "id": "tJg3nZAkbCGN",
        "outputId": "00637408-ce68-479f-d5c5-61676a04f8a0"
      },
      "outputs": [
        {
          "output_type": "stream",
          "name": "stdout",
          "text": [
            "5808966246.7101965 0.5458835346746116\n"
          ]
        }
      ],
      "source": [
        "# Importing\n",
        "from sklearn.linear_model import LinearRegression\n",
        "\n",
        "# Fitting\n",
        "model = LinearRegression()\n",
        "model.fit(X_train, y_train)\n",
        "\n",
        "# Testing\n",
        "y_pred = model.predict(X_test)\n",
        "\n",
        "# Evaluating\n",
        "mse = mean_squared_error(y_test, y_pred)\n",
        "r2 = r2_score(y_test, y_pred)\n",
        "print(mse, r2)"
      ]
    },
    {
      "cell_type": "markdown",
      "source": [
        "##**2. Ridge Regression (L2 Regularization)**\n",
        "\n",
        "To be used:\n",
        "- When dealing with multicollinearity in the data or preventing overfitting\n",
        "- When you have a large number of features."
      ],
      "