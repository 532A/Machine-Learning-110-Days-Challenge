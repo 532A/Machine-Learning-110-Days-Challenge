{
  "nbformat": 4,
  "nbformat_minor": 0,
  "metadata": {
    "colab": {
      "provenance": []
    },
    "kernelspec": {
      "name": "python3",
      "display_name": "Python 3"
    },
    "language_info": {
      "name": "python"
    }
  },
  "cells": [
    {
      "cell_type": "markdown",
      "source": [
        "# CLASSIFICATION MODELS CHEAT SHEET\n",
        "This notebook contains:\n",
        "- 7 most common classification models\n",
        "- How to know when they're ideal for a problem\n",
        "- The ind of data to use them with\n",
        "- Use cases/ scenario where they're most suitable\n",
        "- Their syntaxes (for importing, fitting, testing, evaluating)"
      ],
      "metadata": {
        "id": "MG