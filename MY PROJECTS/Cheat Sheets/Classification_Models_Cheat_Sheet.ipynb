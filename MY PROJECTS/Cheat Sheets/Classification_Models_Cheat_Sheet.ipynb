{
  "nbformat": 4,
  "nbformat_minor": 0,
  "metadata": {
    "colab": {
      "provenance": []
    },
    "kernelspec": {
      "name": "python3",
      "display_name": "Python 3"
    },
    "language_info": {
      "name": "python"
    }
  },
  "cells": [
    {
      "cell_type": "markdown",
      "source": [
        "# CLASSIFICATION MODELS CHEAT SHEET\n",
        "This notebook contains:\n",
        "- 7 most common classification models\n",
        "- How to know when they're ideal for a problem\n",
        "- The ind of data to use them with\n",
        "- Use cases/ scenario where they're most suitable\n",
        "- Their syntaxes (for importing, fitting, testing, evaluating)"
      ],
      "metadata": {
        "id": "MGlHfx2eUH8e"
      }
    },
    {
      "cell_type": "markdown",
      "source": [
        "\n",
        "\n",
        "1. **Logistic Regression**:\n",
        "   - How to know it's ideal: Suitable for binary or multi-class classification problems with linear decision boundaries.\n",
        "   - Data Type: Numerical and categorical data (after encoding).\n",
        "   - Syntax:\n",
        "   ```python\n",
        "   from sklearn.linear_model import LogisticRegression\n",
        "   model = LogisticRegression()\n",
        "   model.fit(X_train, y_train)\n",
        "   y_pred = model.predict(X_test)\n",
        "   ```\n",
        "   - Use Cases/Scenarios: Customer churn prediction, email spam detection, medical diagnosis.\n",
        "   - Best Evaluation Metrics: Accuracy, Precision, Recall, F1-score, Area Under the ROC Curve (AUC-ROC).\n",
        "   - Metric Syntax and Graphs:\n",
        "   ```python\n",
        "   from sklearn.metrics impor