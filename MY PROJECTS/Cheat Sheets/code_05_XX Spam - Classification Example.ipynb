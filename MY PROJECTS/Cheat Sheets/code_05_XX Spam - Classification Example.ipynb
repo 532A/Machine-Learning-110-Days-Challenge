{
 "cells": [
  {
   "cell_type": "markdown",
   "id": "c593e910",
   "metadata": {},
   "source": [
    "### 5.1. Setup\n",
    "\n",
    "Install required text processing libraries for the example"
   ]
  },
  {
   "cell_type": "code",
   "execution_count": 10,
   "id": "91d8262a",
   "metadata": {},
   "outputs": [
    {
     "name": "stdout",
     "output_type": "stream",
     "text": [
      "Requirement already satisfied: nltk in /Users/linkedin/opt/anaconda3/envs/deeplearning/lib/python3.8/site-packages (3.6.3)\n",
      "Requirement already satisfied: tqdm in /Users/linkedin/opt/anaconda3/envs/deeplearning/lib/python3.8/site-packages (from nltk) (4.62.3)\n",
      "Requirement already satisfied: regex in /Users/linkedin/opt/anaconda3/envs/deeplearning/lib/python3.8/site-packages (from nltk) (2021.9.30)\n",
      "Requirement already satisfied: click in /Users/linkedin/opt/anaconda3/envs/deeplearning/lib/python3.8/site-packages (from nltk) (8.0.1)\n",
      "Requirement already satisfied: joblib in /Users/linkedin/opt/anaconda3/envs/deeplearning/lib/python3.8/site-packages (from nltk) (1.0.1)\n"
     ]
    },
    {
     "name": "stderr",
     "output_type": "stream",
     "text": [
      "[nltk_data] Downloading package stopwords to\n",
      "[nltk_data]     /Users/linkedin/nltk_data...\n",
      "[nltk_data]   Package stopwords is already up-to-date!\n",
      "[nltk_data] Downloading package punkt to /Users/linkedin/nltk_data...\n",
      "[nltk_data]   Package punkt is already up-to-date!\n",
      "[nltk_data] Downloading package wordnet to\n",
      "[nltk_data]     /Users/linkedin/nltk_data...\n",
      "[nltk_data]   Package wordnet is already up-to-date!\n"
     ]
    }
   ],
   "source": [
    "!pip install nltk\n",
    "\n",
    "import nltk\n",
    "\n",
    "nltk.download('stopwords')\n",
    "nltk.download('punkt')\n",
    "\n",
    "from nltk.corpus import stopwords\n",
    "\n",
    "nltk.download('wordnet')\n",
    "from nltk.stem import WordNetLemmatizer\n",
    "lemmatizer = WordNetLemmatizer()"
   ]
  },
  {
   "cell_type": "markdown",
   "id": "f40c3a4f",
   "metadata": {},
   "source": [
    "### 5.2. Creating Text Representations\n",
    "\n",
    "Text data needs to be converted to numeric representations before they can be used to train deep learning models. The Spam classification feature data is converted to TF-IDF vectors and the target variable is converted to one-hot encoding."
   ]
  },
  {
   "cell_type": "code",
   "execution_count": 11,
   "id": "08900f4b",
   "metadata": {},
   "outputs": [
    {
     "name": "stdout",
     "output_type": "stream",
     "text": [
      "\n",
      "Loaded Data :\n",
      "------------------------------------\n",
      "  CLASS                                                SMS\n",
      "0   ham   said kiss, kiss, i can't do the sound effects...\n",
      "1   ham      &lt;#&gt; ISH MINUTES WAS 5 MINUTES AGO. WTF.\n",
      "2  spam  (Bank of Granite issues Strong-Buy) EXPLOSIVE ...\n",
      "3  spam  * FREE* POLYPHONIC RINGTONE Text SUPER to 8713...\n",
      "4  spam  **FREE MESSAGE**Thanks for using the Auction S...\n"
     ]
    }
   ],
   "source": [
    "import pandas as pd\n",
    "import os\n",
    "import numpy as np\n",
    "from sklearn.model_selection import train_test_split\n",
    "from sklearn.preprocessing import scale\n",
    "\n",
    "#Load Spam Data and review content\n",
    "spam_data = pd.read_csv(\"Spam-Classification.csv\")\n",
    "\n",
    "print(\"\\nLoaded Data :\\n------------------------------------\")\n",
    "print(spam_data.head())\n",
    "\n",
    "#Separate feature and target data\n",
    "spam_classes_raw = spam_data[\"CLASS\"]\n",
    "spam_messages = spam_data[\"SMS\"]\n"
   ]
  },
  {
   "cell_type": "code",
   "execution_count": 12,
   "id": "64202dcd",
   "metadata": {},
   "outputs": [
    {
     "name": "stdout",
     "output_type": "stream",
     "text": [
      "TF-IDF Matrix Shape :  (1500, 4566)\n",
      "One-hot Encoding Shape :  (1500, 2)\n"
     ]
    }
   ],
   "source": [
    "\n",
    "import nltk\n",
    "import tensorflow as tf\n",
    "\n",
    "#Custom tokenizer to remove stopwords and use lemmatization\n",
    "def customtokenize(str):\n",
    "    #Split string as tokens\n",
    "    tokens=nltk.word_tokenize(str)\n",
    "    #Filter for stopwords\n",
    "    nostop = list(filter(lambda token: token not in stopwords.words('english'), tokens))\n",
    "    #Perform lemmatization\n",
    "    lemmatized=[lemmatizer.lemmatize(word) for word in nostop ]\n",
    "    return lemmatized\n",
    "\n",
    "from sklearn.feature_extraction.text import TfidfVectorizer\n",
    "\n",
    "#Build a TF-IDF Vectorizer model\n",
    "vectorizer = TfidfVectorizer(tokenizer=customtokenize)\n",
    "\n",
    "#Transform feature input to TF-IDF\n",
    "tfidf=vectorizer.fit_transform(spam_messages)\n",
    "#Convert TF-IDF to numpy array\n",
    "tfidf_array = tfidf.toarray()\n",
    "\n",
    "#Build a label encoder for target variable to convert strings to numeric values.\n",
    "from sklearn import preprocessing\n",
    "label_encoder = preprocessing.LabelEncoder()\n",
    "spam_classes = label_encoder.fit_transform(\n",
    "                                spam_classes_raw)\n",
    "\n",
    "#Convert target to one-hot encoding vector\n",
    "spam_classes = tf.keras.utils.to_categorical(spam_classes,2)\n",
    "\n",
    "print(\"TF-IDF Matrix Shape : \", tfidf.shape)\n",
    "print(\"One-hot Encoding Shape : \", spam_classes.shape)\n",
    "\n",
    "X_train,X_test,Y_train,Y_test = train_test_split( tfidf_array, spam_classes, test_size=0.10)"
   ]
  },
  {
   "cell_type": "markdown",
   "id": "585a983f",
   "metadata": {},
   "source": [
    "### 5.3. Building and Evaluating the Model"
   ]
  },
  {
   "cell_type": "code",
   "execution_count": 13,
   "id": "d927db5d",
   "metadata": {},
   "outputs": [
    {
     "name": "stdout",
     "output_type": "stream",
     "text": [
      "Model: \"sequential_2\"\n",
      "_________________________________________________________________\n",
      "Layer (type)                 Output Shape              Param #   \n",
      "=================================================================\n",
      "Hidden-Layer-1 (Dense)       (None, 32)                146144    \n",
      "_________________________________________________________________\n",
      "Hidden-Layer-2 (Dense)       (None, 32)                1056      \n",
      "_________________________________________________________________\n",
      "Output-Layer (Dense)         (None, 2)                 66        \n",
      "=================================================================\n",
      "Total params: 147,266\n",
      "Trainable params: 147,266\n",
      "Non-trainable params: 0\n",
      "_________________________________________________________________\n"
     ]
    }
   ],
   "source": [
    "from tensorflow import keras\n",
    "from tensorflow.keras import optimizers\n",
    "from tensorflow.keras.regularizers import l2\n",
    "\n",
    "#Setup Hyper Parameters for building the model\n",
    "NB_CLASSES=2\n",
    "N_HIDDEN=32\n",
    "\n",
    "model = tf.keras.models.Sequential()\n",
    "\n",
    "model.add(keras.layers.Dense(N_HIDDEN,\n",
    "                             input_shape=(X_train.shape[1],),\n",
    "                              name='Hidden-Layer-1',\n",
    "                              activation='relu'))\n",
    "\n",
    "model.add(keras.layers.Dense(N_HIDDEN,\n",
    "                              name='Hidden-Layer-2',\n",
    "                              activation='relu'))\n",
    "\n",
    "model.add(keras.layers.Dense(NB_CLASSES,\n",
    "                             name='Output-Layer',\n",
    "                             activation='softmax'))\n",
    "\n",
    "model.compile(loss='categorical_crossentropy',\n",
    "              metrics=['accuracy'])\n",
    "\n",
    "model.summary()\n"
   ]
  },
  {
   "cell_type": "code",
   "execution_count": 14,
   "id": "294ceb7c",
   "metadata": {},
   "outputs": [
    {
     "name": "stdout",
     "output_type": "stream",
     "text": [
      "\n",
      "Training Progress:\n",
      "------------------------------------\n",
      "Epoch 1/10\n",
      "5/5 [==============================] - 1s 37ms/step - loss: 0.6866 - accuracy: 0.6370 - val_loss: 0.6652 - val_accuracy: 0.8741\n",
      "Epoch 2/10\n",
      "5/5 [==============================] - 0s 10ms/step - loss: 0.6388 - accuracy: 0.9574 - val_loss: 0.6146 - val_accuracy: 0.9370\n",
      "Epoch 3/10\n",
      "5/5 [==============================] - 0s 10ms/step - loss: 0.5743 - accuracy: 0.9796 - val_loss: 0.5619 - val_accuracy: 0.9407\n",
      "Epoch 4/10\n",
      "5/5 [==============================] - 0s 11ms/step - loss: 0.5082 - accuracy: 0.9843 - val_loss: 0.5100 - val_accuracy: 0.9593\n",
      "Epoch 5/10\n",
      "5/5 [==============================] - 0s 10ms/step - loss: 0.4445 - accuracy: 0.9889 - val_loss: 0.4620 - val_accuracy: 0.9519\n",
      "Epoch 6/10\n",
      "5/5 [==============================] - 0s 10ms/step - loss: 0.3836 - accuracy: 0.9907 - val_loss: 0.4137 - val_accuracy: 0.9630\n",
      "Epoch 7/10\n",
      "5/5 [==============================] - 0s 10ms/step - loss: 0.3270 - accuracy: 0.9917 - val_loss: 0.3705 - val_accuracy: 0.9630\n",
      "Epoch 8/10\n",
      "5/5 [==============================] - 0s 10ms/step - loss: 0.2756 - accuracy: 0.9917 - val_loss: 0.3304 - val_accuracy: 0.9630\n",
      "Epoch 9/10\n",
      "5/5 [==============================] - 0s 9ms/step - loss: 0.2299 - accuracy: 0.9926 - val_loss: 0.2952 - val_accuracy: 0.9630\n",
      "Epoch 10/10\n",
      "5/5 [==============================] - 0s 10ms/step - loss: 0.1903 - accuracy: 0.9944 - val_loss: 0.2637 - val_accuracy: 0.9556\n",
      "\n",
      "Accuracy during Training :\n",
      "------------------------------------\n"
     ]
    },
    {
     "data": {
      "image/png": "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