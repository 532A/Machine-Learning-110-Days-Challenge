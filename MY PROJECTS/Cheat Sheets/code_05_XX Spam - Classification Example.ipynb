{
 "cells": [
  {
   "cell_type": "markdown",
   "id": "c593e910",
   "metadata": {},
   "source": [
    "### 5.1. Setup\n",
    "\n",
    "Install required text processing libraries for the example"
   ]
  },
  {
   "cell_type": "code",
   "execution_count": 10,
   "id": "91d8262a",
   "metadata": {},
   "outputs": [
    {
     "name": "stdout",
     "output_type": "stream",
     "text": [
      "Requirement already satisfied: nltk in /Users/linkedin/opt/anaconda3/envs/deeplearning/lib/python3.8/s