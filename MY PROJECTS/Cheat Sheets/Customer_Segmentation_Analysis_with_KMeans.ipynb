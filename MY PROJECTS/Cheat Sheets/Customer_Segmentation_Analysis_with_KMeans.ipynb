
{
  "cells": [
    {
      "cell_type": "markdown",
      "metadata": {
        "id": "gJLjEZXAlUYm"
      },
      "source": [
        "# Segmenting Data with k-Means Clustering"
      ]
    },
    {
      "cell_type": "markdown",
      "metadata": {
        "id": "jGdcOsf3lUZB"
      },
      "source": [
        "## Learning Objectives\n",
        "The primary objective of clustering is to group items within a dataset based on similarity. **k-Means Clustering** is one of the most popular and easy to use clustering approaches. With k-Means Clustering, similarity is based on a distance metric known as euclidean distance. By the end of this tutorial, you will have learned:\n",
        "+ How to import, explore and prepare data for k-Means Clustering\n",
        "+ How to segment data using k-Means Clustering\n",
        "+ How to evaluate and visualize clusters\n",
        "+ How to choose an appropriate number of clusters\n",
        "+ How to analyze the results of k-Means Clustering"
      ]
    },
    {
      "cell_type": "markdown",
      "metadata": {
        "id": "NnEYmCBUlUZD"
      },
      "source": [
        "## 1. Collect the Data\n",
        "Let's import and preview it:"